{
  "cells": [
    {
      "cell_type": "markdown",
      "source": [
        "#Face Mask Detection Model"
      ],
      "metadata": {
        "id": "mit-eHU8OHtb"
      }
    },
    {
      "cell_type": "code",
      "source": [
        "%pip install kagglehub"
      ],
      "metadata": {
        "colab": {
          "base_uri": "https://localhost:8080/"
        },
        "id": "mToMWkN_FqcR",
        "outputId": "7d796703-e661-4229-87a2-9d0722eab736"
      },
      "execution_count": 1,
      "outputs": [
        {
          "output_type": "stream",
          "name": "stdout",
          "text": [
            "Requirement already satisfied: kagglehub in /usr/local/lib/python3.11/dist-packages (0.3.10)\n",
            "Requirement already satisfied: packaging in /usr/local/lib/python3.11/dist-packages (from kagglehub) (24.2)\n",
            "Requirement already satisfied: pyyaml in /usr/local/lib/python3.11/dist-packages (from kagglehub) (6.0.2)\n",
            "Requirement already satisfied: requests in /usr/local/lib/python3.11/dist-packages (from kagglehub) (2.32.3)\n",
            "Requirement already satisfied: tqdm in /usr/local/lib/python3.11/dist-packages (from kagglehub) (4.67.1)\n",
            "Requirement already satisfied: charset-normalizer<4,>=2 in /usr/local/lib/python3.11/dist-packages (from requests->kagglehub) (3.4.1)\n",
            "Requirement already satisfied: idna<4,>=2.5 in /usr/local/lib/python3.11/dist-packages (from requests->kagglehub) (3.10)\n",
            "Requirement already satisfied: urllib3<3,>=1.21.1 in /usr/local/lib/python3.11/dist-packages (from requests->kagglehub) (2.3.0)\n",
            "Requirement already satisfied: certifi>=2017.4.17 in /usr/local/lib/python3.11/dist-packages (from requests->kagglehub) (2025.1.31)\n"
          ]
        }
      ]
    },
    {
      "cell_type": "code",
      "execution_count": 57,
      "metadata": {
        "id": "BgpUvFpUEgls"
      },
      "outputs": [],
      "source": [
        "# นำเข้า modules ของ libraries\n",
        "import os\n",
        "import re\n",
        "import numpy as np\n",
        "from PIL import Image\n",
        "import xml.etree.ElementTree as ET\n",
        "from sklearn.preprocessing import LabelEncoder\n",
        "from sklearn.model_selection import train_test_split\n",
        "from sklearn.metrics import precision_score, recall_score, r2_score, mean_squared_error\n",
        "from sklearn.ensemble import RandomForestClassifier\n",
        "from tensorflow.keras.models import Sequential, load_model\n",
        "from tensorflow.keras.layers import Flatten, Dense, Dropout\n",
        "from kagglehub import login, dataset_download\n",
        "from pandas import DataFrame"
      ]
    },
    {
      "cell_type": "code",
      "source": [
        "# Login เข้า Kaggle (ต้องดาวโหลด์ใบ credentail จาก kaggle ก่อนแล้วเอา username กับ key มากรอก)\n",
        "# หรือถ้าไม่มีให้ใช้ข้อมูลด้านล่างต่อไปนี้\n",
        "\n",
        "# ให้นำค่า value ไปกรอกในฟอร์มของ kaggle\n",
        "kaggle_api = {\n",
        "    \"username\":\"warinsaipanya\",\n",
        "    \"key\":\"e9d6ec16f057b50fac90908de9990b27\"\n",
        "}\n",
        "\n",
        "login()"
      ],
      "metadata": {
        "colab": {
          "base_uri": "https://localhost:8080/",
          "height": 86,
          "referenced_widgets": [
            "b054275b82a541388ffe5f5065a3a55a",
            "6faf6e0f87dd436092faea9b6d0b7e3e",
            "68a40543b91c485a970577e449accb4f",
            "7b279600f0b04e94a95a72c9f708120d",
            "dcdc196b25ce437eb5e1253f1590d243",
            "3918c9a0ab9c430cbe5e0d1b27b6027c",
            "c474bfd891b8473f92ad61e3b7a6fa27",
            "003168b1b7454dbcb58d30c78cf04cf7",
            "2788e15ca7ec439191eefee260d12c99",
            "d10f8284803b42309b7f7d4d8b8d99d1",
            "df050f48ec6c4109bf22d61a610c5709",
            "357d559c87514c45b08067e54209f69d",
            "6e7299a797f44cda997aea34fab24836",
            "3bb0224d3914463e962b9280269f6ec2",
            "1b74326a6ccc4d3885fab60c07b20b04",
            "63cc4c9b23a1437faef38e38d009664c",
            "75810f6ed91443f4b68905768a3fa974",
            "952b776b89e741e8b14012e56252d512",
            "3824a066203a4de1b3ce154153c9a57a",
            "fed57b7dfe6e45eaba241c39c05b698a",
            "6d480f1ba09f413f8df0bbb30405d063",
            "a90e36d8c6b74b8fa1884a0fe97ed9fe",
            "8d65045e9be84eb59a08688c4003e88c"
          ]
        },
        "id": "WEGAfpAoF5su",
        "outputId": "f1f9e6c4-dc2e-4b82-cc1f-6a2d75cd2412"
      },
      "execution_count": 3,
      "outputs": [
        {
          "output_type": "display_data",
          "data": {
            "text/plain": [
              "VBox(children=(HTML(value='<center> <img\\nsrc=https://www.kaggle.com/static/images/site-logo.png\\nalt=\\'Kaggle…"
            ],
            "application/vnd.jupyter.widget-view+json": {
              "version_major": 2,
              "version_minor": 0,
              "model_id": "b054275b82a541388ffe5f5065a3a55a"
            }
          },
          "metadata": {}
        },
        {
          "output_type": "stream",
          "name": "stdout",
          "text": [
            "Kaggle credentials set.\n",
            "Kaggle credentials successfully validated.\n"
          ]
        }
      ]
    },
    {
      "cell_type": "code",
      "source": [
        "# ดาวโหลด์ตัว datasets จาก kaggle เก็บไว้ใน path ที่ระบุ\n",
        "path = dataset_download(\"andrewmvd/face-mask-detection\")\n",
        "print(f\"path ของไฟล์ dataset อยู่ที่: {path}\")"
      ],
      "metadata": {
        "colab": {
          "base_uri": "https://localhost:8080/"
        },
        "id": "NK1I5Tr1IHB8",
        "outputId": "c0980b3c-da91-4968-c976-ac3023011947"
      },
      "execution_count": 4,
      "outputs": [
        {
          "output_type": "stream",
          "name": "stdout",
          "text": [
            "path ของไฟล์ dataset อยู่ที่: /root/.cache/kagglehub/datasets/andrewmvd/face-mask-detection/versions/1\n"
          ]
        }
      ]
    },
    {
      "cell_type": "code",
      "execution_count": 5,
      "metadata": {
        "id": "OJ9NexsdEglz"
      },
      "outputs": [],
      "source": [
        "# classes เป็น list ไว้เก็บคำตอบ\n",
        "classes = [\"mask worn incorrectly\", \"with mask\", \"without mask\"]"
      ]
    },
    {
      "cell_type": "code",
      "source": [
        "# ชื่อ models ทั้งหมด\n",
        "model_names = (\"Neural Network\", \"KNN\", \"Desicion Tree\", \"Random Forest\")\n",
        "\n",
        "# สร้างตัวแปรเก็บเป็น list ไว้เก็บค่าตัวเลขผลลัพธ์ของ model เพื่อนำไป plot graph และ ทำตาราง\n",
        "accuracy_values = []\n",
        "precision_values = []\n",
        "recall_values = []\n",
        "\n",
        "# function สำหรับเพิ่มค่า element ให้ตัวแปร list ด้านบน\n",
        "def add_elements(accuracy, precision, recall):\n",
        "  accuracy_values.append(accuracy)\n",
        "  precision_values.append(precision)\n",
        "  recall_values.append(recall)"
      ],
      "metadata": {
        "id": "MZxEInY_NLP3"
      },
      "execution_count": 38,
      "outputs": []
    },
    {
      "cell_type": "code",
      "execution_count": 6,
      "metadata": {
        "id": "PA59E5MPEgl0"
      },
      "outputs": [],
      "source": [
        "# path ที่เก็บข้อมูลรูปภาพไว้ train\n",
        "folder_path = f\"{path}/images\"\n",
        "# path ที่เก็บข้อมูลไฟล์ xml\n",
        "xml_folder = f\"{path}/annotations\""
      ]
    },
    {
      "cell_type": "code",
      "execution_count": 12,
      "metadata": {
        "id": "ph83FqhMEgl2"
      },
      "outputs": [],
      "source": [
        "# สร้าง list ไว้เก็บข้อมูล x และ y\n",
        "# x สำหรับเก็บข้อมูล features ของรูปภาพ\n",
        "x = []\n",
        "# y สำหรับเก็บคำตอบของรูปภาพ\n",
        "y = []"
      ]
    },
    {
      "cell_type": "code",
      "execution_count": 13,
      "metadata": {
        "id": "AdmaPV7zEgl3"
      },
      "outputs": [],
      "source": [
        "# function สำหรับการอ่านข้อมูลในไฟล์ xml\n",
        "def parse_xml(xml_path):\n",
        "    tree = ET.parse(xml_path)\n",
        "    root = tree.getroot()\n",
        "    # เก็บข้อมูลใน tag ของ object\n",
        "    objects = []\n",
        "\n",
        "    # วน loop หา element ที่มีชื่อว่า object และได้กลับคืนมาเป็น list แล้ววน loop\n",
        "    for obj in root.findall(\"object\"):\n",
        "        # หา tag ที่ชื่อ name แล้วอ่าน content ด้านในเก็บ class คำตอบของรูป\n",
        "        label = obj.find(\"name\").text\n",
        "        # หา tag bndbox\n",
        "        bndbox = obj.find(\"bndbox\")\n",
        "        # อ่านข้อมูลด้านใน element bndbox แล้วแปลงค่าเป็น int\n",
        "        xmin = int(bndbox.find(\"xmin\").text)\n",
        "        ymin = int(bndbox.find(\"ymin\").text)\n",
        "        xmax = int(bndbox.find(\"xmax\").text)\n",
        "        ymax = int(bndbox.find(\"ymax\").text)\n",
        "        # เพื่อ dictionary เข้าไปใน list\n",
        "        objects.append({\"label\": label, \"bbox\": [xmin, ymin, xmax, ymax]})\n",
        "\n",
        "    return objects"
      ]
    },
    {
      "cell_type": "code",
      "execution_count": 14,
      "metadata": {
        "id": "rUGq0cy_Egl4"
      },
      "outputs": [],
      "source": [
        "def extract_number(filename):\n",
        "    match = re.search(r\"\\d+\", filename)\n",
        "    return int(match.group()) if match else -1"
      ]
    },
    {
      "cell_type": "code",
      "execution_count": 15,
      "metadata": {
        "id": "lAGhAU8yEgl4",
        "colab": {
          "base_uri": "https://localhost:8080/"
        },
        "outputId": "cd4dc431-4bd4-486f-d39c-c8517eaf6c16"
      },
      "outputs": [
        {
          "output_type": "stream",
          "name": "stdout",
          "text": [
            "['maksssksksss0.xml', 'maksssksksss1.xml', 'maksssksksss2.xml', 'maksssksksss3.xml', 'maksssksksss4.xml', 'maksssksksss5.xml', 'maksssksksss6.xml', 'maksssksksss7.xml', 'maksssksksss8.xml', 'maksssksksss9.xml', 'maksssksksss10.xml', 'maksssksksss11.xml', 'maksssksksss12.xml', 'maksssksksss13.xml', 'maksssksksss14.xml', 'maksssksksss15.xml', 'maksssksksss16.xml', 'maksssksksss17.xml', 'maksssksksss18.xml', 'maksssksksss19.xml', 'maksssksksss20.xml', 'maksssksksss21.xml', 'maksssksksss22.xml', 'maksssksksss23.xml', 'maksssksksss24.xml', 'maksssksksss25.xml', 'maksssksksss26.xml', 'maksssksksss27.xml', 'maksssksksss28.xml', 'maksssksksss29.xml', 'maksssksksss30.xml', 'maksssksksss31.xml', 'maksssksksss32.xml', 'maksssksksss33.xml', 'maksssksksss34.xml', 'maksssksksss35.xml', 'maksssksksss36.xml', 'maksssksksss37.xml', 'maksssksksss38.xml', 'maksssksksss39.xml', 'maksssksksss40.xml', 'maksssksksss41.xml', 'maksssksksss42.xml', 'maksssksksss43.xml', 'maksssksksss44.xml', 'maksssksksss45.xml', 'maksssksksss46.xml', 'maksssksksss47.xml', 'maksssksksss48.xml', 'maksssksksss49.xml', 'maksssksksss50.xml', 'maksssksksss51.xml', 'maksssksksss52.xml', 'maksssksksss53.xml', 'maksssksksss54.xml', 'maksssksksss55.xml', 'maksssksksss56.xml', 'maksssksksss57.xml', 'maksssksksss58.xml', 'maksssksksss59.xml', 'maksssksksss60.xml', 'maksssksksss61.xml', 'maksssksksss62.xml', 'maksssksksss63.xml', 'maksssksksss64.xml', 'maksssksksss65.xml', 'maksssksksss66.xml', 'maksssksksss67.xml', 'maksssksksss68.xml', 'maksssksksss69.xml', 'maksssksksss70.xml', 'maksssksksss71.xml', 'maksssksksss72.xml', 'maksssksksss73.xml', 'maksssksksss74.xml', 'maksssksksss75.xml', 'maksssksksss76.xml', 'maksssksksss77.xml', 'maksssksksss78.xml', 'maksssksksss79.xml', 'maksssksksss80.xml', 'maksssksksss81.xml', 'maksssksksss82.xml', 'maksssksksss83.xml', 'maksssksksss84.xml', 'maksssksksss85.xml', 'maksssksksss86.xml', 'maksssksksss87.xml', 'maksssksksss88.xml', 'maksssksksss89.xml', 'maksssksksss90.xml', 'maksssksksss91.xml', 'maksssksksss92.xml', 'maksssksksss93.xml', 'maksssksksss94.xml', 'maksssksksss95.xml', 'maksssksksss96.xml', 'maksssksksss97.xml', 'maksssksksss98.xml', 'maksssksksss99.xml', 'maksssksksss100.xml', 'maksssksksss101.xml', 'maksssksksss102.xml', 'maksssksksss103.xml', 'maksssksksss104.xml', 'maksssksksss105.xml', 'maksssksksss106.xml', 'maksssksksss107.xml', 'maksssksksss108.xml', 'maksssksksss109.xml', 'maksssksksss110.xml', 'maksssksksss111.xml', 'maksssksksss112.xml', 'maksssksksss113.xml', 'maksssksksss114.xml', 'maksssksksss115.xml', 'maksssksksss116.xml', 'maksssksksss117.xml', 'maksssksksss118.xml', 'maksssksksss119.xml', 'maksssksksss120.xml', 'maksssksksss121.xml', 'maksssksksss122.xml', 'maksssksksss123.xml', 'maksssksksss124.xml', 'maksssksksss125.xml', 'maksssksksss126.xml', 'maksssksksss127.xml', 'maksssksksss128.xml', 'maksssksksss129.xml', 'maksssksksss130.xml', 'maksssksksss131.xml', 'maksssksksss132.xml', 'maksssksksss133.xml', 'maksssksksss134.xml', 'maksssksksss135.xml', 'maksssksksss136.xml', 'maksssksksss137.xml', 'maksssksksss138.xml', 'maksssksksss139.xml', 'maksssksksss140.xml', 'maksssksksss141.xml', 'maksssksksss142.xml', 'maksssksksss143.xml', 'maksssksksss144.xml', 'maksssksksss145.xml', 'maksssksksss146.xml', 'maksssksksss147.xml', 'maksssksksss148.xml', 'maksssksksss149.xml', 'maksssksksss150.xml', 'maksssksksss151.xml', 'maksssksksss152.xml', 'maksssksksss153.xml', 'maksssksksss154.xml', 'maksssksksss155.xml', 'maksssksksss156.xml', 'maksssksksss157.xml', 'maksssksksss158.xml', 'maksssksksss159.xml', 'maksssksksss160.xml', 'maksssksksss161.xml', 'maksssksksss162.xml', 'maksssksksss163.xml', 'maksssksksss164.xml', 'maksssksksss165.xml', 'maksssksksss166.xml', 'maksssksksss167.xml', 'maksssksksss168.xml', 'maksssksksss169.xml', 'maksssksksss170.xml', 'maksssksksss171.xml', 'maksssksksss172.xml', 'maksssksksss173.xml', 'maksssksksss174.xml', 'maksssksksss175.xml', 'maksssksksss176.xml', 'maksssksksss177.xml', 'maksssksksss178.xml', 'maksssksksss179.xml', 'maksssksksss180.xml', 'maksssksksss181.xml', 'maksssksksss182.xml', 'maksssksksss183.xml', 'maksssksksss184.xml', 'maksssksksss185.xml', 'maksssksksss186.xml', 'maksssksksss187.xml', 'maksssksksss188.xml', 'maksssksksss189.xml', 'maksssksksss190.xml', 'maksssksksss191.xml', 'maksssksksss192.xml', 'maksssksksss193.xml', 'maksssksksss194.xml', 'maksssksksss195.xml', 'maksssksksss196.xml', 'maksssksksss197.xml', 'maksssksksss198.xml', 'maksssksksss199.xml', 'maksssksksss200.xml', 'maksssksksss201.xml', 'maksssksksss202.xml', 'maksssksksss203.xml', 'maksssksksss204.xml', 'maksssksksss205.xml', 'maksssksksss206.xml', 'maksssksksss207.xml', 'maksssksksss208.xml', 'maksssksksss209.xml', 'maksssksksss210.xml', 'maksssksksss211.xml', 'maksssksksss212.xml', 'maksssksksss213.xml', 'maksssksksss214.xml', 'maksssksksss215.xml', 'maksssksksss216.xml', 'maksssksksss217.xml', 'maksssksksss218.xml', 'maksssksksss219.xml', 'maksssksksss220.xml', 'maksssksksss221.xml', 'maksssksksss222.xml', 'maksssksksss223.xml', 'maksssksksss224.xml', 'maksssksksss225.xml', 'maksssksksss226.xml', 'maksssksksss227.xml', 'maksssksksss228.xml', 'maksssksksss229.xml', 'maksssksksss230.xml', 'maksssksksss231.xml', 'maksssksksss232.xml', 'maksssksksss233.xml', 'maksssksksss234.xml', 'maksssksksss235.xml', 'maksssksksss236.xml', 'maksssksksss237.xml', 'maksssksksss238.xml', 'maksssksksss239.xml', 'maksssksksss240.xml', 'maksssksksss241.xml', 'maksssksksss242.xml', 'maksssksksss243.xml', 'maksssksksss244.xml', 'maksssksksss245.xml', 'maksssksksss246.xml', 'maksssksksss247.xml', 'maksssksksss248.xml', 'maksssksksss249.xml', 'maksssksksss250.xml', 'maksssksksss251.xml', 'maksssksksss252.xml', 'maksssksksss253.xml', 'maksssksksss254.xml', 'maksssksksss255.xml', 'maksssksksss256.xml', 'maksssksksss257.xml', 'maksssksksss258.xml', 'maksssksksss259.xml', 'maksssksksss260.xml', 'maksssksksss261.xml', 'maksssksksss262.xml', 'maksssksksss263.xml', 'maksssksksss264.xml', 'maksssksksss265.xml', 'maksssksksss266.xml', 'maksssksksss267.xml', 'maksssksksss268.xml', 'maksssksksss269.xml', 'maksssksksss270.xml', 'maksssksksss271.xml', 'maksssksksss272.xml', 'maksssksksss273.xml', 'maksssksksss274.xml', 'maksssksksss275.xml', 'maksssksksss276.xml', 'maksssksksss277.xml', 'maksssksksss278.xml', 'maksssksksss279.xml', 'maksssksksss280.xml', 'maksssksksss281.xml', 'maksssksksss282.xml', 'maksssksksss283.xml', 'maksssksksss284.xml', 'maksssksksss285.xml', 'maksssksksss286.xml', 'maksssksksss287.xml', 'maksssksksss288.xml', 'maksssksksss289.xml', 'maksssksksss290.xml', 'maksssksksss291.xml', 'maksssksksss292.xml', 'maksssksksss293.xml', 'maksssksksss294.xml', 'maksssksksss295.xml', 'maksssksksss296.xml', 'maksssksksss297.xml', 'maksssksksss298.xml', 'maksssksksss299.xml', 'maksssksksss300.xml', 'maksssksksss301.xml', 'maksssksksss302.xml', 'maksssksksss303.xml', 'maksssksksss304.xml', 'maksssksksss305.xml', 'maksssksksss306.xml', 'maksssksksss307.xml', 'maksssksksss308.xml', 'maksssksksss309.xml', 'maksssksksss310.xml', 'maksssksksss311.xml', 'maksssksksss312.xml', 'maksssksksss313.xml', 'maksssksksss314.xml', 'maksssksksss315.xml', 'maksssksksss316.xml', 'maksssksksss317.xml', 'maksssksksss318.xml', 'maksssksksss319.xml', 'maksssksksss320.xml', 'maksssksksss321.xml', 'maksssksksss322.xml', 'maksssksksss323.xml', 'maksssksksss324.xml', 'maksssksksss325.xml', 'maksssksksss326.xml', 'maksssksksss327.xml', 'maksssksksss328.xml', 'maksssksksss329.xml', 'maksssksksss330.xml', 'maksssksksss331.xml', 'maksssksksss332.xml', 'maksssksksss333.xml', 'maksssksksss334.xml', 'maksssksksss335.xml', 'maksssksksss336.xml', 'maksssksksss337.xml', 'maksssksksss338.xml', 'maksssksksss339.xml', 'maksssksksss340.xml', 'maksssksksss341.xml', 'maksssksksss342.xml', 'maksssksksss343.xml', 'maksssksksss344.xml', 'maksssksksss345.xml', 'maksssksksss346.xml', 'maksssksksss347.xml', 'maksssksksss348.xml', 'maksssksksss349.xml', 'maksssksksss350.xml', 'maksssksksss351.xml', 'maksssksksss352.xml', 'maksssksksss353.xml', 'maksssksksss354.xml', 'maksssksksss355.xml', 'maksssksksss356.xml', 'maksssksksss357.xml', 'maksssksksss358.xml', 'maksssksksss359.xml', 'maksssksksss360.xml', 'maksssksksss361.xml', 'maksssksksss362.xml', 'maksssksksss363.xml', 'maksssksksss364.xml', 'maksssksksss365.xml', 'maksssksksss366.xml', 'maksssksksss367.xml', 'maksssksksss368.xml', 'maksssksksss369.xml', 'maksssksksss370.xml', 'maksssksksss371.xml', 'maksssksksss372.xml', 'maksssksksss373.xml', 'maksssksksss374.xml', 'maksssksksss375.xml', 'maksssksksss376.xml', 'maksssksksss377.xml', 'maksssksksss378.xml', 'maksssksksss379.xml', 'maksssksksss380.xml', 'maksssksksss381.xml', 'maksssksksss382.xml', 'maksssksksss383.xml', 'maksssksksss384.xml', 'maksssksksss385.xml', 'maksssksksss386.xml', 'maksssksksss387.xml', 'maksssksksss388.xml', 'maksssksksss389.xml', 'maksssksksss390.xml', 'maksssksksss391.xml', 'maksssksksss392.xml', 'maksssksksss393.xml', 'maksssksksss394.xml', 'maksssksksss395.xml', 'maksssksksss396.xml', 'maksssksksss397.xml', 'maksssksksss398.xml', 'maksssksksss399.xml', 'maksssksksss400.xml', 'maksssksksss401.xml', 'maksssksksss402.xml', 'maksssksksss403.xml', 'maksssksksss404.xml', 'maksssksksss405.xml', 'maksssksksss406.xml', 'maksssksksss407.xml', 'maksssksksss408.xml', 'maksssksksss409.xml', 'maksssksksss410.xml', 'maksssksksss411.xml', 'maksssksksss412.xml', 'maksssksksss413.xml', 'maksssksksss414.xml', 'maksssksksss415.xml', 'maksssksksss416.xml', 'maksssksksss417.xml', 'maksssksksss418.xml', 'maksssksksss419.xml', 'maksssksksss420.xml', 'maksssksksss421.xml', 'maksssksksss422.xml', 'maksssksksss423.xml', 'maksssksksss424.xml', 'maksssksksss425.xml', 'maksssksksss426.xml', 'maksssksksss427.xml', 'maksssksksss428.xml', 'maksssksksss429.xml', 'maksssksksss430.xml', 'maksssksksss431.xml', 'maksssksksss432.xml', 'maksssksksss433.xml', 'maksssksksss434.xml', 'maksssksksss435.xml', 'maksssksksss436.xml', 'maksssksksss437.xml', 'maksssksksss438.xml', 'maksssksksss439.xml', 'maksssksksss440.xml', 'maksssksksss441.xml', 'maksssksksss442.xml', 'maksssksksss443.xml', 'maksssksksss444.xml', 'maksssksksss445.xml', 'maksssksksss446.xml', 'maksssksksss447.xml', 'maksssksksss448.xml', 'maksssksksss449.xml', 'maksssksksss450.xml', 'maksssksksss451.xml', 'maksssksksss452.xml', 'maksssksksss453.xml', 'maksssksksss454.xml', 'maksssksksss455.xml', 'maksssksksss456.xml', 'maksssksksss457.xml', 'maksssksksss458.xml', 'maksssksksss459.xml', 'maksssksksss460.xml', 'maksssksksss461.xml', 'maksssksksss462.xml', 'maksssksksss463.xml', 'maksssksksss464.xml', 'maksssksksss465.xml', 'maksssksksss466.xml', 'maksssksksss467.xml', 'maksssksksss468.xml', 'maksssksksss469.xml', 'maksssksksss470.xml', 'maksssksksss471.xml', 'maksssksksss472.xml', 'maksssksksss473.xml', 'maksssksksss474.xml', 'maksssksksss475.xml', 'maksssksksss476.xml', 'maksssksksss477.xml', 'maksssksksss478.xml', 'maksssksksss479.xml', 'maksssksksss480.xml', 'maksssksksss481.xml', 'maksssksksss482.xml', 'maksssksksss483.xml', 'maksssksksss484.xml', 'maksssksksss485.xml', 'maksssksksss486.xml', 'maksssksksss487.xml', 'maksssksksss488.xml', 'maksssksksss489.xml', 'maksssksksss490.xml', 'maksssksksss491.xml', 'maksssksksss492.xml', 'maksssksksss493.xml', 'maksssksksss494.xml', 'maksssksksss495.xml', 'maksssksksss496.xml', 'maksssksksss497.xml', 'maksssksksss498.xml', 'maksssksksss499.xml', 'maksssksksss500.xml', 'maksssksksss501.xml', 'maksssksksss502.xml', 'maksssksksss503.xml', 'maksssksksss504.xml', 'maksssksksss505.xml', 'maksssksksss506.xml', 'maksssksksss507.xml', 'maksssksksss508.xml', 'maksssksksss509.xml', 'maksssksksss510.xml', 'maksssksksss511.xml', 'maksssksksss512.xml', 'maksssksksss513.xml', 'maksssksksss514.xml', 'maksssksksss515.xml', 'maksssksksss516.xml', 'maksssksksss517.xml', 'maksssksksss518.xml', 'maksssksksss519.xml', 'maksssksksss520.xml', 'maksssksksss521.xml', 'maksssksksss522.xml', 'maksssksksss523.xml', 'maksssksksss524.xml', 'maksssksksss525.xml', 'maksssksksss526.xml', 'maksssksksss527.xml', 'maksssksksss528.xml', 'maksssksksss529.xml', 'maksssksksss530.xml', 'maksssksksss531.xml', 'maksssksksss532.xml', 'maksssksksss533.xml', 'maksssksksss534.xml', 'maksssksksss535.xml', 'maksssksksss536.xml', 'maksssksksss537.xml', 'maksssksksss538.xml', 'maksssksksss539.xml', 'maksssksksss540.xml', 'maksssksksss541.xml', 'maksssksksss542.xml', 'maksssksksss543.xml', 'maksssksksss544.xml', 'maksssksksss545.xml', 'maksssksksss546.xml', 'maksssksksss547.xml', 'maksssksksss548.xml', 'maksssksksss549.xml', 'maksssksksss550.xml', 'maksssksksss551.xml', 'maksssksksss552.xml', 'maksssksksss553.xml', 'maksssksksss554.xml', 'maksssksksss555.xml', 'maksssksksss556.xml', 'maksssksksss557.xml', 'maksssksksss558.xml', 'maksssksksss559.xml', 'maksssksksss560.xml', 'maksssksksss561.xml', 'maksssksksss562.xml', 'maksssksksss563.xml', 'maksssksksss564.xml', 'maksssksksss565.xml', 'maksssksksss566.xml', 'maksssksksss567.xml', 'maksssksksss568.xml', 'maksssksksss569.xml', 'maksssksksss570.xml', 'maksssksksss571.xml', 'maksssksksss572.xml', 'maksssksksss573.xml', 'maksssksksss574.xml', 'maksssksksss575.xml', 'maksssksksss576.xml', 'maksssksksss577.xml', 'maksssksksss578.xml', 'maksssksksss579.xml', 'maksssksksss580.xml', 'maksssksksss581.xml', 'maksssksksss582.xml', 'maksssksksss583.xml', 'maksssksksss584.xml', 'maksssksksss585.xml', 'maksssksksss586.xml', 'maksssksksss587.xml', 'maksssksksss588.xml', 'maksssksksss589.xml', 'maksssksksss590.xml', 'maksssksksss591.xml', 'maksssksksss592.xml', 'maksssksksss593.xml', 'maksssksksss594.xml', 'maksssksksss595.xml', 'maksssksksss596.xml', 'maksssksksss597.xml', 'maksssksksss598.xml', 'maksssksksss599.xml', 'maksssksksss600.xml', 'maksssksksss601.xml', 'maksssksksss602.xml', 'maksssksksss603.xml', 'maksssksksss604.xml', 'maksssksksss605.xml', 'maksssksksss606.xml', 'maksssksksss607.xml', 'maksssksksss608.xml', 'maksssksksss609.xml', 'maksssksksss610.xml', 'maksssksksss611.xml', 'maksssksksss612.xml', 'maksssksksss613.xml', 'maksssksksss614.xml', 'maksssksksss615.xml', 'maksssksksss616.xml', 'maksssksksss617.xml', 'maksssksksss618.xml', 'maksssksksss619.xml', 'maksssksksss620.xml', 'maksssksksss621.xml', 'maksssksksss622.xml', 'maksssksksss623.xml', 'maksssksksss624.xml', 'maksssksksss625.xml', 'maksssksksss626.xml', 'maksssksksss627.xml', 'maksssksksss628.xml', 'maksssksksss629.xml', 'maksssksksss630.xml', 'maksssksksss631.xml', 'maksssksksss632.xml', 'maksssksksss633.xml', 'maksssksksss634.xml', 'maksssksksss635.xml', 'maksssksksss636.xml', 'maksssksksss637.xml', 'maksssksksss638.xml', 'maksssksksss639.xml', 'maksssksksss640.xml', 'maksssksksss641.xml', 'maksssksksss642.xml', 'maksssksksss643.xml', 'maksssksksss644.xml', 'maksssksksss645.xml', 'maksssksksss646.xml', 'maksssksksss647.xml', 'maksssksksss648.xml', 'maksssksksss649.xml', 'maksssksksss650.xml', 'maksssksksss651.xml', 'maksssksksss652.xml', 'maksssksksss653.xml', 'maksssksksss654.xml', 'maksssksksss655.xml', 'maksssksksss656.xml', 'maksssksksss657.xml', 'maksssksksss658.xml', 'maksssksksss659.xml', 'maksssksksss660.xml', 'maksssksksss661.xml', 'maksssksksss662.xml', 'maksssksksss663.xml', 'maksssksksss664.xml', 'maksssksksss665.xml', 'maksssksksss666.xml', 'maksssksksss667.xml', 'maksssksksss668.xml', 'maksssksksss669.xml', 'maksssksksss670.xml', 'maksssksksss671.xml', 'maksssksksss672.xml', 'maksssksksss673.xml', 'maksssksksss674.xml', 'maksssksksss675.xml', 'maksssksksss676.xml', 'maksssksksss677.xml', 'maksssksksss678.xml', 'maksssksksss679.xml', 'maksssksksss680.xml', 'maksssksksss681.xml', 'maksssksksss682.xml', 'maksssksksss683.xml', 'maksssksksss684.xml', 'maksssksksss685.xml', 'maksssksksss686.xml', 'maksssksksss687.xml', 'maksssksksss688.xml', 'maksssksksss689.xml', 'maksssksksss690.xml', 'maksssksksss691.xml', 'maksssksksss692.xml', 'maksssksksss693.xml', 'maksssksksss694.xml', 'maksssksksss695.xml', 'maksssksksss696.xml', 'maksssksksss697.xml', 'maksssksksss698.xml', 'maksssksksss699.xml', 'maksssksksss700.xml', 'maksssksksss701.xml', 'maksssksksss702.xml', 'maksssksksss703.xml', 'maksssksksss704.xml', 'maksssksksss705.xml', 'maksssksksss706.xml', 'maksssksksss707.xml', 'maksssksksss708.xml', 'maksssksksss709.xml', 'maksssksksss710.xml', 'maksssksksss711.xml', 'maksssksksss712.xml', 'maksssksksss713.xml', 'maksssksksss714.xml', 'maksssksksss715.xml', 'maksssksksss716.xml', 'maksssksksss717.xml', 'maksssksksss718.xml', 'maksssksksss719.xml', 'maksssksksss720.xml', 'maksssksksss721.xml', 'maksssksksss722.xml', 'maksssksksss723.xml', 'maksssksksss724.xml', 'maksssksksss725.xml', 'maksssksksss726.xml', 'maksssksksss727.xml', 'maksssksksss728.xml', 'maksssksksss729.xml', 'maksssksksss730.xml', 'maksssksksss731.xml', 'maksssksksss732.xml', 'maksssksksss733.xml', 'maksssksksss734.xml', 'maksssksksss735.xml', 'maksssksksss736.xml', 'maksssksksss737.xml', 'maksssksksss738.xml', 'maksssksksss739.xml', 'maksssksksss740.xml', 'maksssksksss741.xml', 'maksssksksss742.xml', 'maksssksksss743.xml', 'maksssksksss744.xml', 'maksssksksss745.xml', 'maksssksksss746.xml', 'maksssksksss747.xml', 'maksssksksss748.xml', 'maksssksksss749.xml', 'maksssksksss750.xml', 'maksssksksss751.xml', 'maksssksksss752.xml', 'maksssksksss753.xml', 'maksssksksss754.xml', 'maksssksksss755.xml', 'maksssksksss756.xml', 'maksssksksss757.xml', 'maksssksksss758.xml', 'maksssksksss759.xml', 'maksssksksss760.xml', 'maksssksksss761.xml', 'maksssksksss762.xml', 'maksssksksss763.xml', 'maksssksksss764.xml', 'maksssksksss765.xml', 'maksssksksss766.xml', 'maksssksksss767.xml', 'maksssksksss768.xml', 'maksssksksss769.xml', 'maksssksksss770.xml', 'maksssksksss771.xml', 'maksssksksss772.xml', 'maksssksksss773.xml', 'maksssksksss774.xml', 'maksssksksss775.xml', 'maksssksksss776.xml', 'maksssksksss777.xml', 'maksssksksss778.xml', 'maksssksksss779.xml', 'maksssksksss780.xml', 'maksssksksss781.xml', 'maksssksksss782.xml', 'maksssksksss783.xml', 'maksssksksss784.xml', 'maksssksksss785.xml', 'maksssksksss786.xml', 'maksssksksss787.xml', 'maksssksksss788.xml', 'maksssksksss789.xml', 'maksssksksss790.xml', 'maksssksksss791.xml', 'maksssksksss792.xml', 'maksssksksss793.xml', 'maksssksksss794.xml', 'maksssksksss795.xml', 'maksssksksss796.xml', 'maksssksksss797.xml', 'maksssksksss798.xml', 'maksssksksss799.xml', 'maksssksksss800.xml', 'maksssksksss801.xml', 'maksssksksss802.xml', 'maksssksksss803.xml', 'maksssksksss804.xml', 'maksssksksss805.xml', 'maksssksksss806.xml', 'maksssksksss807.xml', 'maksssksksss808.xml', 'maksssksksss809.xml', 'maksssksksss810.xml', 'maksssksksss811.xml', 'maksssksksss812.xml', 'maksssksksss813.xml', 'maksssksksss814.xml', 'maksssksksss815.xml', 'maksssksksss816.xml', 'maksssksksss817.xml', 'maksssksksss818.xml', 'maksssksksss819.xml', 'maksssksksss820.xml', 'maksssksksss821.xml', 'maksssksksss822.xml', 'maksssksksss823.xml', 'maksssksksss824.xml', 'maksssksksss825.xml', 'maksssksksss826.xml', 'maksssksksss827.xml', 'maksssksksss828.xml', 'maksssksksss829.xml', 'maksssksksss830.xml', 'maksssksksss831.xml', 'maksssksksss832.xml', 'maksssksksss833.xml', 'maksssksksss834.xml', 'maksssksksss835.xml', 'maksssksksss836.xml', 'maksssksksss837.xml', 'maksssksksss838.xml', 'maksssksksss839.xml', 'maksssksksss840.xml', 'maksssksksss841.xml', 'maksssksksss842.xml', 'maksssksksss843.xml', 'maksssksksss844.xml', 'maksssksksss845.xml', 'maksssksksss846.xml', 'maksssksksss847.xml', 'maksssksksss848.xml', 'maksssksksss849.xml', 'maksssksksss850.xml', 'maksssksksss851.xml', 'maksssksksss852.xml']\n"
          ]
        }
      ],
      "source": [
        "# list เก็บชื่อไฟล์ xml แบบเรียงลำดับชื่อไฟล์เป็นไฟล์ข้อมูลสำหรับแต่หล่ะรูปภาพ\n",
        "xml_files = sorted(os.listdir(xml_folder), key=extract_number)\n",
        "# สร้าง object ของ label encoder ไว้ normalize ตัว label ของรูป\n",
        "encoder = LabelEncoder()\n",
        "\n",
        "# แสดงผล list ที่เก็บไฟล์ xml ไว้\n",
        "print(xml_files)"
      ]
    },
    {
      "cell_type": "code",
      "execution_count": 16,
      "metadata": {
        "id": "UKD1UTe0Egl8"
      },
      "outputs": [],
      "source": [
        "# วน loop แต่ล่ะชื่อ xml file\n",
        "for file in xml_files:\n",
        "    # เอา path ของที่เก็บไฟล์ xml  มา join กับชื่อไฟล์ จะได้ตำแหน่ง path ที่แท้จริงของไฟล์ xml\n",
        "    file_path = os.path.join(xml_folder, file)\n",
        "\n",
        "    # เช็คตรวจสอบไฟล์ว่ามี path ไฟล์นั้นอยู่จริงไหม หรือไฟล์นั้นไม่ใช่ไฟล์ นามสกุล .xml ให้ข้าม loop นั้น\n",
        "    if not os.path.isfile(file_path) or not file.lower().endswith('.xml'):\n",
        "        continue\n",
        "\n",
        "    try:\n",
        "        # แปลงไฟล์ นามสกุลลงท้าย .xml เป็น .png ชื่อไฟล์ xml กับ ชื่อรูปภาพเหมือนกันต่างกันแค่คนหล่ะนามสกุลไฟล์\n",
        "        image_name = file.replace(\".xml\", \".png\")\n",
        "        # เอา path ที่เก็บรูปภาพมา join กับ ชื่อไฟล์รูปภาพที่พึ่งแก้นามสกุลไฟลืไป ได้เป็น path ของรูปภาพที่แท้จริง\n",
        "        image_path = os.path.join(folder_path, image_name)\n",
        "\n",
        "        # เช็คเงื่อนไขถ้า path ของรูปภาพไม่มีอยู่ ให้ข้าม loop นั้นไป\n",
        "        if not os.path.exists(image_path):\n",
        "            print(f\"Image not found: {image_path}\")\n",
        "            continue\n",
        "\n",
        "        # เปิดรูปภาพตามตำแหน่งของ path รูปภาพแล้วแปลงรูปภาพนั้นให้เป็น grayscale\n",
        "        img = Image.open(image_path).convert('L')\n",
        "        # ปรับขนาดของรูปภาพที่ size หลายขนาดให้เป็นขนาด 512 x 512 (height = width)\n",
        "        img = img.resize((512, 512))\n",
        "        # เพิ่ม element เข้าไปใน list โดยให้รูปภาพปรับขนาดรูปร่างความกว้างและความสูงเป็น 512 และ มีช่องสีแค่ 1\n",
        "        x.append(np.array(img).reshape(512, 512, 1))\n",
        "\n",
        "        # เรียกใช้ function ได้เป็น list ที่เก็บ dictionary ที่เป็นคุณสมบัติของรูปภาพ\n",
        "        objects = parse_xml(file_path)\n",
        "\n",
        "        # เช็คถ้า objects นั้นไม่ใช้ list ว่าง (มี elements อยู่ใน list) ให้ทำเงื่อนไขด้านล่างนี้\n",
        "        if objects:\n",
        "            # อ่านคำตอบมาแค่ 1 คนจากรูปภาพนั้น\n",
        "            # ให้ตัวแปร y เก็บ class ของคำตอบแต่ล่ะรูป\n",
        "            y.append(objects[0][\"label\"])\n",
        "        else:\n",
        "            print(f\"Warning: No objects found in {file_path}\")\n",
        "            continue\n",
        "    except Exception as e:\n",
        "        print(f\"Error processing {file}: {e}\")\n",
        "\n",
        "# เช็คถ้าข้อมูลนั้นไม่มีอยู่ให้โยน exception นี้ออกไป\n",
        "if len(x) == 0 or len(y) == 0:\n",
        "    raise ValueError(\"No data found! Check your dataset paths and XML annotations.\")\n",
        "\n",
        "# encoded ตัวคำตอบ labels แปลงจาก string -> int ค่าอยู่ในช่วง 0 - 2\n",
        "y = encoder.fit_transform(y)\n",
        "# แปลงข้อมูล array จากชนิด unsigned int -> float และหารด้วย 255 เพิ่อแปลงเป็น grayscale\n",
        "x = np.array(x).astype('float32') / 255\n",
        "# แบ่งข้อมูล train และ test\n",
        "x_train, x_test, y_train, y_test = train_test_split(x, y, test_size=0.2, random_state=42)"
      ]
    },
    {
      "cell_type": "code",
      "source": [
        "# แสดงผลขนาดรูปร่างของข้อมูล train และ test\n",
        "# จำนวนข้อมูลรูปภาพมีทั้งหมด 853 รูป แบ่งเป็น train 682 รูป และ test 171 รูป\n",
        "print(x_train.shape)\n",
        "print(x_test.shape)\n",
        "print(y_train.shape)\n",
        "print(y_test.shape)"
      ],
      "metadata": {
        "colab": {
          "base_uri": "https://localhost:8080/"
        },
        "id": "bIdZy3T0crGH",
        "outputId": "84b5c768-3f7b-4fc8-df22-f74fad65ceec"
      },
      "execution_count": 18,
      "outputs": [
        {
          "output_type": "stream",
          "name": "stdout",
          "text": [
            "(682, 512, 512, 1)\n",
            "(171, 512, 512, 1)\n",
            "(682,)\n",
            "(171,)\n"
          ]
        }
      ]
    },
    {
      "cell_type": "markdown",
      "source": [
        "### Neural Netwoerk Model"
      ],
      "metadata": {
        "id": "2_w58r31uhDx"
      }
    },
    {
      "cell_type": "code",
      "execution_count": 19,
      "metadata": {
        "id": "zIx3B18vEgl8",
        "colab": {
          "base_uri": "https://localhost:8080/"
        },
        "outputId": "53103095-8871-4c3c-e53a-e67075cde17c"
      },
      "outputs": [
        {
          "output_type": "stream",
          "name": "stderr",
          "text": [
            "/usr/local/lib/python3.11/dist-packages/keras/src/layers/reshaping/flatten.py:37: UserWarning: Do not pass an `input_shape`/`input_dim` argument to a layer. When using Sequential models, prefer using an `Input(shape)` object as the first layer in the model instead.\n",
            "  super().__init__(**kwargs)\n"
          ]
        }
      ],
      "source": [
        "# สร้าง object ของ model\n",
        "model = Sequential()\n",
        "\n",
        "# เพิ่มแต่ล่ะ layers ให้ model\n",
        "model.add(Flatten(input_shape=(512, 512, 1)))\n",
        "model.add(Dense(512, activation='relu'))\n",
        "model.add(Dropout(0.5))\n",
        "model.add(Dense(3, activation='softmax'))"
      ]
    },
    {
      "cell_type": "code",
      "execution_count": 20,
      "metadata": {
        "id": "0Xv44UZ0Egl9"
      },
      "outputs": [],
      "source": [
        "# compile model\n",
        "model.compile(loss='sparse_categorical_crossentropy', optimizer='adam', metrics=['accuracy'])"
      ]
    },
    {
      "cell_type": "code",
      "execution_count": 21,
      "metadata": {
        "id": "vq-uvbnCEgl-",
        "colab": {
          "base_uri": "https://localhost:8080/"
        },
        "outputId": "dc6e720f-9d11-4fd4-d6d9-eff5122e2898"
      },
      "outputs": [
        {
          "output_type": "stream",
          "name": "stdout",
          "text": [
            "Epoch 1/14\n",
            "\u001b[1m22/22\u001b[0m \u001b[32m━━━━━━━━━━━━━━━━━━━━\u001b[0m\u001b[37m\u001b[0m \u001b[1m62s\u001b[0m 3s/step - accuracy: 0.6319 - loss: 143.1385\n",
            "Epoch 2/14\n",
            "\u001b[1m22/22\u001b[0m \u001b[32m━━━━━━━━━━━━━━━━━━━━\u001b[0m\u001b[37m\u001b[0m \u001b[1m79s\u001b[0m 3s/step - accuracy: 0.7464 - loss: 29.3112\n",
            "Epoch 3/14\n",
            "\u001b[1m22/22\u001b[0m \u001b[32m━━━━━━━━━━━━━━━━━━━━\u001b[0m\u001b[37m\u001b[0m \u001b[1m89s\u001b[0m 3s/step - accuracy: 0.6596 - loss: 4.5866\n",
            "Epoch 4/14\n",
            "\u001b[1m22/22\u001b[0m \u001b[32m━━━━━━━━━━━━━━━━━━━━\u001b[0m\u001b[37m\u001b[0m \u001b[1m64s\u001b[0m 3s/step - accuracy: 0.8091 - loss: 1.0655\n",
            "Epoch 5/14\n",
            "\u001b[1m22/22\u001b[0m \u001b[32m━━━━━━━━━━━━━━━━━━━━\u001b[0m\u001b[37m\u001b[0m \u001b[1m98s\u001b[0m 4s/step - accuracy: 0.8156 - loss: 0.9798\n",
            "Epoch 6/14\n",
            "\u001b[1m22/22\u001b[0m \u001b[32m━━━━━━━━━━━━━━━━━━━━\u001b[0m\u001b[37m\u001b[0m \u001b[1m70s\u001b[0m 3s/step - accuracy: 0.8051 - loss: 0.9497\n",
            "Epoch 7/14\n",
            "\u001b[1m22/22\u001b[0m \u001b[32m━━━━━━━━━━━━━━━━━━━━\u001b[0m\u001b[37m\u001b[0m \u001b[1m71s\u001b[0m 3s/step - accuracy: 0.8080 - loss: 0.8557\n",
            "Epoch 8/14\n",
            "\u001b[1m22/22\u001b[0m \u001b[32m━━━━━━━━━━━━━━━━━━━━\u001b[0m\u001b[37m\u001b[0m \u001b[1m92s\u001b[0m 3s/step - accuracy: 0.7867 - loss: 0.8547\n",
            "Epoch 9/14\n",
            "\u001b[1m22/22\u001b[0m \u001b[32m━━━━━━━━━━━━━━━━━━━━\u001b[0m\u001b[37m\u001b[0m \u001b[1m74s\u001b[0m 3s/step - accuracy: 0.8111 - loss: 0.7827\n",
            "Epoch 10/14\n",
            "\u001b[1m22/22\u001b[0m \u001b[32m━━━━━━━━━━━━━━━━━━━━\u001b[0m\u001b[37m\u001b[0m \u001b[1m59s\u001b[0m 3s/step - accuracy: 0.7895 - loss: 0.8011\n",
            "Epoch 11/14\n",
            "\u001b[1m22/22\u001b[0m \u001b[32m━━━━━━━━━━━━━━━━━━━━\u001b[0m\u001b[37m\u001b[0m \u001b[1m60s\u001b[0m 3s/step - accuracy: 0.7983 - loss: 0.7514\n",
            "Epoch 12/14\n",
            "\u001b[1m22/22\u001b[0m \u001b[32m━━━━━━━━━━━━━━━━━━━━\u001b[0m\u001b[37m\u001b[0m \u001b[1m82s\u001b[0m 3s/step - accuracy: 0.8015 - loss: 0.7342\n",
            "Epoch 13/14\n",
            "\u001b[1m22/22\u001b[0m \u001b[32m━━━━━━━━━━━━━━━━━━━━\u001b[0m\u001b[37m\u001b[0m \u001b[1m74s\u001b[0m 3s/step - accuracy: 0.7893 - loss: 0.7231\n",
            "Epoch 14/14\n",
            "\u001b[1m22/22\u001b[0m \u001b[32m━━━━━━━━━━━━━━━━━━━━\u001b[0m\u001b[37m\u001b[0m \u001b[1m93s\u001b[0m 4s/step - accuracy: 0.8052 - loss: 0.6933\n"
          ]
        },
        {
          "output_type": "execute_result",
          "data": {
            "text/plain": [
              "<keras.src.callbacks.history.History at 0x7aa6ada61d90>"
            ]
          },
          "metadata": {},
          "execution_count": 21
        }
      ],
      "source": [
        "# train model 14 รอบ\n",
        "model.fit(x_train, y_train, epochs=14)"
      ]
    },
    {
      "cell_type": "code",
      "execution_count": 23,
      "metadata": {
        "id": "5ni3PDoNEgmA"
      },
      "outputs": [],
      "source": [
        "# บันทึกตัว model เป็นไฟล์ .keras\n",
        "model.save('/content/face_mask_detection_model.keras')"
      ]
    },
    {
      "cell_type": "code",
      "execution_count": 39,
      "metadata": {
        "id": "CU9qsiyhEgl_",
        "colab": {
          "base_uri": "https://localhost:8080/"
        },
        "outputId": "f9c60ecc-a39d-47c8-b6bb-3a5c1ea5e44c"
      },
      "outputs": [
        {
          "output_type": "stream",
          "name": "stdout",
          "text": [
            "\u001b[1m6/6\u001b[0m \u001b[32m━━━━━━━━━━━━━━━━━━━━\u001b[0m\u001b[37m\u001b[0m \u001b[1m1s\u001b[0m 210ms/step - accuracy: 0.8609 - loss: 0.5239\n",
            "Accuracy: 0.8830409646034241\n",
            "Loss: 0.5003550052642822\n"
          ]
        }
      ],
      "source": [
        "# คำนวณค่า accuracy และ ค่า loss ของ model\n",
        "loss, accuracy = model.evaluate(x_test, y_test)\n",
        "\n",
        "# แสดงผลค่าออกมา\n",
        "print(f\"Accuracy: {accuracy}\")\n",
        "print(f\"Loss: {loss}\")"
      ]
    },
    {
      "cell_type": "code",
      "source": [
        "# ทำนายค่าผลลัพธ์\n",
        "y_pred = np.argmax(model.predict(x_test), axis=-1)\n",
        "\n",
        "# คำนวณค่า precision และ recall\n",
        "precision = precision_score(y_test, y_pred)\n",
        "recall = recall_score(y_test, y_pred)\n",
        "\n",
        "# แสดงผลลัพธ์\n",
        "print(f\"Precision: {precision}\")\n",
        "print(f\"Recall: {recall}\")"
      ],
      "metadata": {
        "colab": {
          "base_uri": "https://localhost:8080/"
        },
        "id": "-_osnPDPxsEQ",
        "outputId": "73205ae3-78c1-4f7d-c457-faade82dc091"
      },
      "execution_count": 40,
      "outputs": [
        {
          "output_type": "stream",
          "name": "stdout",
          "text": [
            "\u001b[1m6/6\u001b[0m \u001b[32m━━━━━━━━━━━━━━━━━━━━\u001b[0m\u001b[37m\u001b[0m \u001b[1m2s\u001b[0m 359ms/step\n",
            "Precision: 0.8830409356725146\n",
            "Recall: 1.0\n"
          ]
        }
      ]
    },
    {
      "cell_type": "code",
      "source": [
        "# เรียกใช้ function เพิ่มค่าที่สำคัญเข้าไปใน list\n",
        "add_elements(accuracy, precision, recall)"
      ],
      "metadata": {
        "id": "WvIxd1IiQpxS"
      },
      "execution_count": 41,
      "outputs": []
    },
    {
      "cell_type": "code",
      "source": [
        "# โหลดตัว model\n",
        "model = load_model('/content/face_mask_detection_model.keras')"
      ],
      "metadata": {
        "id": "H5liZAbtQ8SM"
      },
      "execution_count": null,
      "outputs": []
    },
    {
      "cell_type": "code",
      "source": [
        "# แปลงจาก array 4 มิติให้เป็น array 2 มิติ\n",
        "x_train2 = x_train.reshape(x_train.shape[0], -1)\n",
        "x_test2 = x_test.reshape(x_test.shape[0], -1)\n",
        "# แปลงเป็๋น array 1 มิติ\n",
        "y_train2 = y_train.ravel()\n",
        "y_test2 = y_test.ravel()"
      ],
      "metadata": {
        "id": "a9raeheGUBq8"
      },
      "execution_count": 81,
      "outputs": []
    },
    {
      "cell_type": "code",
      "source": [
        "# แสดงรูปร้่างของข้อมูล train และ test\n",
        "print(x_train2.shape)\n",
        "print(x_test2.shape)\n",
        "print(y_train2.shape)\n",
        "print(y_test2.shape)"
      ],
      "metadata": {
        "colab": {
          "base_uri": "https://localhost:8080/"
        },
        "id": "_hnR8qC5V5IP",
        "outputId": "feec56ef-f61e-4b1f-876a-f3c00977c53d"
      },
      "execution_count": 82,
      "outputs": [
        {
          "output_type": "stream",
          "name": "stdout",
          "text": [
            "(682, 262144)\n",
            "(171, 262144)\n",
            "(682,)\n",
            "(171,)\n"
          ]
        }
      ]
    },
    {
      "cell_type": "markdown",
      "source": [
        "### KNN Model"
      ],
      "metadata": {
        "id": "1sx7ePSfPgAg"
      }
    },
    {
      "cell_type": "code",
      "source": [],
      "metadata": {
        "id": "vC5SE5qIPvdj"
      },
      "execution_count": null,
      "outputs": []
    },
    {
      "cell_type": "markdown",
      "source": [
        "### Desicion Tree Model"
      ],
      "metadata": {
        "id": "wzFO5MGFPv6g"
      }
    },
    {
      "cell_type": "code",
      "source": [],
      "metadata": {
        "id": "CPsMXlCyP0XJ"
      },
      "execution_count": null,
      "outputs": []
    },
    {
      "cell_type": "markdown",
      "source": [
        "### Random Forest Model"
      ],
      "metadata": {
        "id": "9JBKqbL2P0sR"
      }
    },
    {
      "cell_type": "code",
      "source": [
        "rf_model = RandomForestClassifier(n_estimators=10, max_depth=5, random_state=42)\n",
        "rf_model.fit(x_train2, y_train2)\n",
        "\n",
        "y_pred = rf_model.predict(x_test2)\n",
        "score = rf_model.score(x_test2, y_test2)\n",
        "\n",
        "print(f\"Mean Accuracy: {score}\")"
      ],
      "metadata": {
        "colab": {
          "base_uri": "https://localhost:8080/"
        },
        "id": "Klrv-8KnP4Ui",
        "outputId": "4e59064e-284e-41b9-f8a0-13955bf8de39"
      },
      "execution_count": 85,
      "outputs": [
        {
          "output_type": "stream",
          "name": "stdout",
          "text": [
            "Mean Accuracy: 0.8771929824561403\n"
          ]
        }
      ]
    }
  ],
  "metadata": {
    "kernelspec": {
      "display_name": "env",
      "language": "python",
      "name": "python3"
    },
    "language_info": {
      "codemirror_mode": {
        "name": "ipython",
        "version": 3
      },
      "file_extension": ".py",
      "mimetype": "text/x-python",
      "name": "python",
      "nbconvert_exporter": "python",
      "pygments_lexer": "ipython3",
      "version": "3.12.3"
    },
    "colab": {
      "provenance": []
    },
    "widgets": {
      "application/vnd.jupyter.widget-state+json": {
        "b054275b82a541388ffe5f5065a3a55a": {
          "model_module": "@jupyter-widgets/controls",
          "model_name": "VBoxModel",
          "model_module_version": "1.5.0",
          "state": {
            "_dom_classes": [],
            "_model_module": "@jupyter-widgets/controls",
            "_model_module_version": "1.5.0",
            "_model_name": "VBoxModel",
            "_view_count": null,
            "_view_module": "@jupyter-widgets/controls",
            "_view_module_version": "1.5.0",
            "_view_name": "VBoxView",
            "box_style": "",
            "children": [
              "IPY_MODEL_6d480f1ba09f413f8df0bbb30405d063"
            ],
            "layout": "IPY_MODEL_c474bfd891b8473f92ad61e3b7a6fa27"
          }
        },
        "6faf6e0f87dd436092faea9b6d0b7e3e": {
          "model_module": "@jupyter-widgets/controls",
          "model_name": "HTMLModel",
          "model_module_version": "1.5.0",
          "state": {
            "_dom_classes": [],
            "_model_module": "@jupyter-widgets/controls",
            "_model_module_version": "1.5.0",
            "_model_name": "HTMLModel",
            "_view_count": null,
            "_view_module": "@jupyter-widgets/controls",
            "_view_module_version": "1.5.0",
            "_view_name": "HTMLView",
            "description": "",
            "description_tooltip": null,
            "layout": "IPY_MODEL_003168b1b7454dbcb58d30c78cf04cf7",
            "placeholder": "​",
            "style": "IPY_MODEL_2788e15ca7ec439191eefee260d12c99",
            "value": "<center> <img\nsrc=https://www.kaggle.com/static/images/site-logo.png\nalt='Kaggle'> <br> Create an API token from <a\nhref=\"https://www.kaggle.com/settings/account\" target=\"_blank\">your Kaggle\nsettings page</a> and paste it below along with your Kaggle username. <br> </center>"
          }
        },
        "68a40543b91c485a970577e449accb4f": {
          "model_module": "@jupyter-widgets/controls",
          "model_name": "TextModel",
          "model_module_version": "1.5.0",
          "state": {
            "_dom_classes": [],
            "_model_module": "@jupyter-widgets/controls",
            "_model_module_version": "1.5.0",
            "_model_name": "TextModel",
            "_view_count": null,
            "_view_module": "@jupyter-widgets/controls",
            "_view_module_version": "1.5.0",
            "_view_name": "TextView",
            "continuous_update": true,
            "description": "Username:",
            "description_tooltip": null,
            "disabled": false,
            "layout": "IPY_MODEL_d10f8284803b42309b7f7d4d8b8d99d1",
            "placeholder": "​",
            "style": "IPY_MODEL_df050f48ec6c4109bf22d61a610c5709",
            "value": "warinsaipanya"
          }
        },
        "7b279600f0b04e94a95a72c9f708120d": {
          "model_module": "@jupyter-widgets/controls",
          "model_name": "PasswordModel",
          "model_module_version": "1.5.0",
          "state": {
            "_dom_classes": [],
            "_model_module": "@jupyter-widgets/controls",
            "_model_module_version": "1.5.0",
            "_model_name": "PasswordModel",
            "_view_count": null,
            "_view_module": "@jupyter-widgets/controls",
            "_view_module_version": "1.5.0",
            "_view_name": "PasswordView",
            "continuous_update": true,
            "description": "Token:",
            "description_tooltip": null,
            "disabled": false,
            "layout": "IPY_MODEL_357d559c87514c45b08067e54209f69d",
            "placeholder": "​",
            "style": "IPY_MODEL_6e7299a797f44cda997aea34fab24836",
            "value": ""
          }
        },
        "dcdc196b25ce437eb5e1253f1590d243": {
          "model_module": "@jupyter-widgets/controls",
          "model_name": "ButtonModel",
          "model_module_version": "1.5.0",
          "state": {
            "_dom_classes": [],
            "_model_module": "@jupyter-widgets/controls",
            "_model_module_version": "1.5.0",
            "_model_name": "ButtonModel",
            "_view_count": null,
            "_view_module": "@jupyter-widgets/controls",
            "_view_module_version": "1.5.0",
            "_view_name": "ButtonView",
            "button_style": "",
            "description": "Login",
            "disabled": false,
            "icon": "",
            "layout": "IPY_MODEL_3bb0224d3914463e962b9280269f6ec2",
            "style": "IPY_MODEL_1b74326a6ccc4d3885fab60c07b20b04",
            "tooltip": ""
          }
        },
        "3918c9a0ab9c430cbe5e0d1b27b6027c": {
          "model_module": "@jupyter-widgets/controls",
          "model_name": "HTMLModel",
          "model_module_version": "1.5.0",
          "state": {
            "_dom_classes": [],
            "_model_module": "@jupyter-widgets/controls",
            "_model_module_version": "1.5.0",
            "_model_name": "HTMLModel",
            "_view_count": null,
            "_view_module": "@jupyter-widgets/controls",
            "_view_module_version": "1.5.0",
            "_view_name": "HTMLView",
            "description": "",
            "description_tooltip": null,
            "layout": "IPY_MODEL_63cc4c9b23a1437faef38e38d009664c",
            "placeholder": "​",
            "style": "IPY_MODEL_75810f6ed91443f4b68905768a3fa974",
            "value": "\n<b>Thank You</b></center>"
          }
        },
        "c474bfd891b8473f92ad61e3b7a6fa27": {
          "model_module": "@jupyter-widgets/base",
          "model_name": "LayoutModel",
          "model_module_version": "1.2.0",
          "state": {
            "_model_module": "@jupyter-widgets/base",
            "_model_module_version": "1.2.0",
            "_model_name": "LayoutModel",
            "_view_count": null,
            "_view_module": "@jupyter-widgets/base",
            "_view_module_version": "1.2.0",
            "_view_name": "LayoutView",
            "align_content": null,
            "align_items": "center",
            "align_self": null,
            "border": null,
            "bottom": null,
            "display": "flex",
            "flex": null,
            "flex_flow": "column",
            "grid_area": null,
            "grid_auto_columns": null,
            "grid_auto_flow": null,
            "grid_auto_rows": null,
            "grid_column": null,
            "grid_gap": null,
            "grid_row": null,
            "grid_template_areas": null,
            "grid_template_columns": null,
            "grid_template_rows": null,
            "height": null,
            "justify_content": null,
            "justify_items": null,
            "left": null,
            "margin": null,
            "max_height": null,
            "max_width": null,
            "min_height": null,
            "min_width": null,
            "object_fit": null,
            "object_position": null,
            "order": null,
            "overflow": null,
            "overflow_x": null,
            "overflow_y": null,
            "padding": null,
            "right": null,
            "top": null,
            "visibility": null,
            "width": "50%"
          }
        },
        "003168b1b7454dbcb58d30c78cf04cf7": {
          "model_module": "@jupyter-widgets/base",
          "model_name": "LayoutModel",
          "model_module_version": "1.2.0",
          "state": {
            "_model_module": "@jupyter-widgets/base",
            "_model_module_version": "1.2.0",
            "_model_name": "LayoutModel",
            "_view_count": null,
            "_view_module": "@jupyter-widgets/base",
            "_view_module_version": "1.2.0",
            "_view_name": "LayoutView",
            "align_content": null,
            "align_items": null,
            "align_self": null,
            "border": null,
            "bottom": null,
            "display": null,
            "flex": null,
            "flex_flow": null,
            "grid_area": null,
            "grid_auto_columns": null,
            "grid_auto_flow": null,
            "grid_auto_rows": null,
            "grid_column": null,
            "grid_gap": null,
            "grid_row": null,
            "grid_template_areas": null,
            "grid_template_columns": null,
            "grid_template_rows": null,
            "height": null,
            "justify_content": null,
            "justify_items": null,
            "left": null,
            "margin": null,
            "max_height": null,
            "max_width": null,
            "min_height": null,
            "min_width": null,
            "object_fit": null,
            "object_position": null,
            "order": null,
            "overflow": null,
            "overflow_x": null,
            "overflow_y": null,
            "padding": null,
            "right": null,
            "top": null,
            "visibility": null,
            "width": null
          }
        },
        "2788e15ca7ec439191eefee260d12c99": {
          "model_module": "@jupyter-widgets/controls",
          "model_name": "DescriptionStyleModel",
          "model_module_version": "1.5.0",
          "state": {
            "_model_module": "@jupyter-widgets/controls",
            "_model_module_version": "1.5.0",
            "_model_name": "DescriptionStyleModel",
            "_view_count": null,
            "_view_module": "@jupyter-widgets/base",
            "_view_module_version": "1.2.0",
            "_view_name": "StyleView",
            "description_width": ""
          }
        },
        "d10f8284803b42309b7f7d4d8b8d99d1": {
          "model_module": "@jupyter-widgets/base",
          "model_name": "LayoutModel",
          "model_module_version": "1.2.0",
          "state": {
            "_model_module": "@jupyter-widgets/base",
            "_model_module_version": "1.2.0",
            "_model_name": "LayoutModel",
            "_view_count": null,
            "_view_module": "@jupyter-widgets/base",
            "_view_module_version": "1.2.0",
            "_view_name": "LayoutView",
            "align_content": null,
            "align_items": null,
            "align_self": null,
            "border": null,
            "bottom": null,
            "display": null,
            "flex": null,
            "flex_flow": null,
            "grid_area": null,
            "grid_auto_columns": null,
            "grid_auto_flow": null,
            "grid_auto_rows": null,
            "grid_column": null,
            "grid_gap": null,
            "grid_row": null,
            "grid_template_areas": null,
            "grid_template_columns": null,
            "grid_template_rows": null,
            "height": null,
            "justify_content": null,
            "justify_items": null,
            "left": null,
            "margin": null,
            "max_height": null,
            "max_width": null,
            "min_height": null,
            "min_width": null,
            "object_fit": null,
            "object_position": null,
            "order": null,
            "overflow": null,
            "overflow_x": null,
            "overflow_y": null,
            "padding": null,
            "right": null,
            "top": null,
            "visibility": null,
            "width": null
          }
        },
        "df050f48ec6c4109bf22d61a610c5709": {
          "model_module": "@jupyter-widgets/controls",
          "model_name": "DescriptionStyleModel",
          "model_module_version": "1.5.0",
          "state": {
            "_model_module": "@jupyter-widgets/controls",
            "_model_module_version": "1.5.0",
            "_model_name": "DescriptionStyleModel",
            "_view_count": null,
            "_view_module": "@jupyter-widgets/base",
            "_view_module_version": "1.2.0",
            "_view_name": "StyleView",
            "description_width": ""
          }
        },
        "357d559c87514c45b08067e54209f69d": {
          "model_module": "@jupyter-widgets/base",
          "model_name": "LayoutModel",
          "model_module_version": "1.2.0",
          "state": {
            "_model_module": "@jupyter-widgets/base",
            "_model_module_version": "1.2.0",
            "_model_name": "LayoutModel",
            "_view_count": null,
            "_view_module": "@jupyter-widgets/base",
            "_view_module_version": "1.2.0",
            "_view_name": "LayoutView",
            "align_content": null,
            "align_items": null,
            "align_self": null,
            "border": null,
            "bottom": null,
            "display": null,
            "flex": null,
            "flex_flow": null,
            "grid_area": null,
            "grid_auto_columns": null,
            "grid_auto_flow": null,
            "grid_auto_rows": null,
            "grid_column": null,
            "grid_gap": null,
            "grid_row": null,
            "grid_template_areas": null,
            "grid_template_columns": null,
            "grid_template_rows": null,
            "height": null,
            "justify_content": null,
            "justify_items": null,
            "left": null,
            "margin": null,
            "max_height": null,
            "max_width": null,
            "min_height": null,
            "min_width": null,
            "object_fit": null,
            "object_position": null,
            "order": null,
            "overflow": null,
            "overflow_x": null,
            "overflow_y": null,
            "padding": null,
            "right": null,
            "top": null,
            "visibility": null,
            "width": null
          }
        },
        "6e7299a797f44cda997aea34fab24836": {
          "model_module": "@jupyter-widgets/controls",
          "model_name": "DescriptionStyleModel",
          "model_module_version": "1.5.0",
          "state": {
            "_model_module": "@jupyter-widgets/controls",
            "_model_module_version": "1.5.0",
            "_model_name": "DescriptionStyleModel",
            "_view_count": null,
            "_view_module": "@jupyter-widgets/base",
            "_view_module_version": "1.2.0",
            "_view_name": "StyleView",
            "description_width": ""
          }
        },
        "3bb0224d3914463e962b9280269f6ec2": {
          "model_module": "@jupyter-widgets/base",
          "model_name": "LayoutModel",
          "model_module_version": "1.2.0",
          "state": {
            "_model_module": "@jupyter-widgets/base",
            "_model_module_version": "1.2.0",
            "_model_name": "LayoutModel",
            "_view_count": null,
            "_view_module": "@jupyter-widgets/base",
            "_view_module_version": "1.2.0",
            "_view_name": "LayoutView",
            "align_content": null,
            "align_items": null,
            "align_self": null,
            "border": null,
            "bottom": null,
            "display": null,
            "flex": null,
            "flex_flow": null,
            "grid_area": null,
            "grid_auto_columns": null,
            "grid_auto_flow": null,
            "grid_auto_rows": null,
            "grid_column": null,
            "grid_gap": null,
            "grid_row": null,
            "grid_template_areas": null,
            "grid_template_columns": null,
            "grid_template_rows": null,
            "height": null,
            "justify_content": null,
            "justify_items": null,
            "left": null,
            "margin": null,
            "max_height": null,
            "max_width": null,
            "min_height": null,
            "min_width": null,
            "object_fit": null,
            "object_position": null,
            "order": null,
            "overflow": null,
            "overflow_x": null,
            "overflow_y": null,
            "padding": null,
            "right": null,
            "top": null,
            "visibility": null,
            "width": null
          }
        },
        "1b74326a6ccc4d3885fab60c07b20b04": {
          "model_module": "@jupyter-widgets/controls",
          "model_name": "ButtonStyleModel",
          "model_module_version": "1.5.0",
          "state": {
            "_model_module": "@jupyter-widgets/controls",
            "_model_module_version": "1.5.0",
            "_model_name": "ButtonStyleModel",
            "_view_count": null,
            "_view_module": "@jupyter-widgets/base",
            "_view_module_version": "1.2.0",
            "_view_name": "StyleView",
            "button_color": null,
            "font_weight": ""
          }
        },
        "63cc4c9b23a1437faef38e38d009664c": {
          "model_module": "@jupyter-widgets/base",
          "model_name": "LayoutModel",
          "model_module_version": "1.2.0",
          "state": {
            "_model_module": "@jupyter-widgets/base",
            "_model_module_version": "1.2.0",
            "_model_name": "LayoutModel",
            "_view_count": null,
            "_view_module": "@jupyter-widgets/base",
            "_view_module_version": "1.2.0",
            "_view_name": "LayoutView",
            "align_content": null,
            "align_items": null,
            "align_self": null,
            "border": null,
            "bottom": null,
            "display": null,
            "flex": null,
            "flex_flow": null,
            "grid_area": null,
            "grid_auto_columns": null,
            "grid_auto_flow": null,
            "grid_auto_rows": null,
            "grid_column": null,
            "grid_gap": null,
            "grid_row": null,
            "grid_template_areas": null,
            "grid_template_columns": null,
            "grid_template_rows": null,
            "height": null,
            "justify_content": null,
            "justify_items": null,
            "left": null,
            "margin": null,
            "max_height": null,
            "max_width": null,
            "min_height": null,
            "min_width": null,
            "object_fit": null,
            "object_position": null,
            "order": null,
            "overflow": null,
            "overflow_x": null,
            "overflow_y": null,
            "padding": null,
            "right": null,
            "top": null,
            "visibility": null,
            "width": null
          }
        },
        "75810f6ed91443f4b68905768a3fa974": {
          "model_module": "@jupyter-widgets/controls",
          "model_name": "DescriptionStyleModel",
          "model_module_version": "1.5.0",
          "state": {
            "_model_module": "@jupyter-widgets/controls",
            "_model_module_version": "1.5.0",
            "_model_name": "DescriptionStyleModel",
            "_view_count": null,
            "_view_module": "@jupyter-widgets/base",
            "_view_module_version": "1.2.0",
            "_view_name": "StyleView",
            "description_width": ""
          }
        },
        "952b776b89e741e8b14012e56252d512": {
          "model_module": "@jupyter-widgets/controls",
          "model_name": "LabelModel",
          "model_module_version": "1.5.0",
          "state": {
            "_dom_classes": [],
            "_model_module": "@jupyter-widgets/controls",
            "_model_module_version": "1.5.0",
            "_model_name": "LabelModel",
            "_view_count": null,
            "_view_module": "@jupyter-widgets/controls",
            "_view_module_version": "1.5.0",
            "_view_name": "LabelView",
            "description": "",
            "description_tooltip": null,
            "layout": "IPY_MODEL_3824a066203a4de1b3ce154153c9a57a",
            "placeholder": "​",
            "style": "IPY_MODEL_fed57b7dfe6e45eaba241c39c05b698a",
            "value": "Connecting..."
          }
        },
        "3824a066203a4de1b3ce154153c9a57a": {
          "model_module": "@jupyter-widgets/base",
          "model_name": "LayoutModel",
          "model_module_version": "1.2.0",
          "state": {
            "_model_module": "@jupyter-widgets/base",
            "_model_module_version": "1.2.0",
            "_model_name": "LayoutModel",
            "_view_count": null,
            "_view_module": "@jupyter-widgets/base",
            "_view_module_version": "1.2.0",
            "_view_name": "LayoutView",
            "align_content": null,
            "align_items": null,
            "align_self": null,
            "border": null,
            "bottom": null,
            "display": null,
            "flex": null,
            "flex_flow": null,
            "grid_area": null,
            "grid_auto_columns": null,
            "grid_auto_flow": null,
            "grid_auto_rows": null,
            "grid_column": null,
            "grid_gap": null,
            "grid_row": null,
            "grid_template_areas": null,
            "grid_template_columns": null,
            "grid_template_rows": null,
            "height": null,
            "justify_content": null,
            "justify_items": null,
            "left": null,
            "margin": null,
            "max_height": null,
            "max_width": null,
            "min_height": null,
            "min_width": null,
            "object_fit": null,
            "object_position": null,
            "order": null,
            "overflow": null,
            "overflow_x": null,
            "overflow_y": null,
            "padding": null,
            "right": null,
            "top": null,
            "visibility": null,
            "width": null
          }
        },
        "fed57b7dfe6e45eaba241c39c05b698a": {
          "model_module": "@jupyter-widgets/controls",
          "model_name": "DescriptionStyleModel",
          "model_module_version": "1.5.0",
          "state": {
            "_model_module": "@jupyter-widgets/controls",
            "_model_module_version": "1.5.0",
            "_model_name": "DescriptionStyleModel",
            "_view_count": null,
            "_view_module": "@jupyter-widgets/base",
            "_view_module_version": "1.2.0",
            "_view_name": "StyleView",
            "description_width": ""
          }
        },
        "6d480f1ba09f413f8df0bbb30405d063": {
          "model_module": "@jupyter-widgets/controls",
          "model_name": "LabelModel",
          "model_module_version": "1.5.0",
          "state": {
            "_dom_classes": [],
            "_model_module": "@jupyter-widgets/controls",
            "_model_module_version": "1.5.0",
            "_model_name": "LabelModel",
            "_view_count": null,
            "_view_module": "@jupyter-widgets/controls",
            "_view_module_version": "1.5.0",
            "_view_name": "LabelView",
            "description": "",
            "description_tooltip": null,
            "layout": "IPY_MODEL_a90e36d8c6b74b8fa1884a0fe97ed9fe",
            "placeholder": "​",
            "style": "IPY_MODEL_8d65045e9be84eb59a08688c4003e88c",
            "value": "Kaggle credentials successfully validated."
          }
        },
        "a90e36d8c6b74b8fa1884a0fe97ed9fe": {
          "model_module": "@jupyter-widgets/base",
          "model_name": "LayoutModel",
          "model_module_version": "1.2.0",
          "state": {
            "_model_module": "@jupyter-widgets/base",
            "_model_module_version": "1.2.0",
            "_model_name": "LayoutModel",
            "_view_count": null,
            "_view_module": "@jupyter-widgets/base",
            "_view_module_version": "1.2.0",
            "_view_name": "LayoutView",
            "align_content": null,
            "align_items": null,
            "align_self": null,
            "border": null,
            "bottom": null,
            "display": null,
            "flex": null,
            "flex_flow": null,
            "grid_area": null,
            "grid_auto_columns": null,
            "grid_auto_flow": null,
            "grid_auto_rows": null,
            "grid_column": null,
            "grid_gap": null,
            "grid_row": null,
            "grid_template_areas": null,
            "grid_template_columns": null,
            "grid_template_rows": null,
            "height": null,
            "justify_content": null,
            "justify_items": null,
            "left": null,
            "margin": null,
            "max_height": null,
            "max_width": null,
            "min_height": null,
            "min_width": null,
            "object_fit": null,
            "object_position": null,
            "order": null,
            "overflow": null,
            "overflow_x": null,
            "overflow_y": null,
            "padding": null,
            "right": null,
            "top": null,
            "visibility": null,
            "width": null
          }
        },
        "8d65045e9be84eb59a08688c4003e88c": {
          "model_module": "@jupyter-widgets/controls",
          "model_name": "DescriptionStyleModel",
          "model_module_version": "1.5.0",
          "state": {
            "_model_module": "@jupyter-widgets/controls",
            "_model_module_version": "1.5.0",
            "_model_name": "DescriptionStyleModel",
            "_view_count": null,
            "_view_module": "@jupyter-widgets/base",
            "_view_module_version": "1.2.0",
            "_view_name": "StyleView",
            "description_width": ""
          }
        }
      }
    }
  },
  "nbformat": 4,
  "nbformat_minor": 0
}
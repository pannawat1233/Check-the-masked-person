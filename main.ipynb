{
  "cells": [
    {
      "cell_type": "markdown",
      "source": [
        "#Face Mask Detection Model"
      ],
      "metadata": {
        "id": "mit-eHU8OHtb"
      }
    },
    {
      "cell_type": "code",
      "source": [
        "%pip install kagglehub"
      ],
      "metadata": {
        "colab": {
          "base_uri": "https://localhost:8080/"
        },
        "id": "mToMWkN_FqcR",
        "outputId": "c05fc0dd-165e-479d-941d-299437862968"
      },
      "execution_count": null,
      "outputs": [
        {
          "output_type": "stream",
          "name": "stdout",
          "text": [
            "Requirement already satisfied: kagglehub in /usr/local/lib/python3.11/dist-packages (0.3.10)\n",
            "Requirement already satisfied: packaging in /usr/local/lib/python3.11/dist-packages (from kagglehub) (24.2)\n",
            "Requirement already satisfied: pyyaml in /usr/local/lib/python3.11/dist-packages (from kagglehub) (6.0.2)\n",
            "Requirement already satisfied: requests in /usr/local/lib/python3.11/dist-packages (from kagglehub) (2.32.3)\n",
            "Requirement already satisfied: tqdm in /usr/local/lib/python3.11/dist-packages (from kagglehub) (4.67.1)\n",
            "Requirement already satisfied: charset-normalizer<4,>=2 in /usr/local/lib/python3.11/dist-packages (from requests->kagglehub) (3.4.1)\n",
            "Requirement already satisfied: idna<4,>=2.5 in /usr/local/lib/python3.11/dist-packages (from requests->kagglehub) (3.10)\n",
            "Requirement already satisfied: urllib3<3,>=1.21.1 in /usr/local/lib/python3.11/dist-packages (from requests->kagglehub) (2.3.0)\n",
            "Requirement already satisfied: certifi>=2017.4.17 in /usr/local/lib/python3.11/dist-packages (from requests->kagglehub) (2025.1.31)\n"
          ]
        }
      ]
    },
    {
      "cell_type": "code",
      "execution_count": 76,
      "metadata": {
        "id": "BgpUvFpUEgls"
      },
      "outputs": [],
      "source": [
        "# นำเข้า modules ของ libraries\n",
        "import os\n",
        "import re\n",
        "import numpy as np\n",
        "from PIL import Image\n",
        "from sklearn.preprocessing import LabelEncoder\n",
        "from sklearn.model_selection import train_test_split\n",
        "from sklearn.metrics import classification_report\n",
        "import xml.etree.ElementTree as ET\n",
        "from tensorflow.keras.models import Sequential, load_model\n",
        "from tensorflow.keras.layers import Flatten, Dense, Dropout\n",
        "from kagglehub import login, dataset_download"
      ]
    },
    {
      "cell_type": "code",
      "source": [
        "# Login เข้า Kaggle (ต้องดาวโหลด์ใบ credentail จาก kaggle ก่อนแล้วเอา username กับ key มากรอก)\n",
        "# หรือถ้าไม่มีให้ใช้ { \"username\":\"warinsaipanya\", \"key\":\"e9d6ec16f057b50fac90908de9990b27\" } dict นี้\n",
        "login()"
      ],
      "metadata": {
        "colab": {
          "base_uri": "https://localhost:8080/",
          "height": 86,
          "referenced_widgets": [
            "1c0814ea04214e0cbd006206fffd6756",
            "1c1e72c663fa45e1a6cc92e0cc4f44b9",
            "f9330123e8a04703819e1bfa978d92b4",
            "43ce76b4e9664254af92c88c46a1801d",
            "1243f1e1bd5c460c9dd078c85f1d3ac7",
            "fcf2927cd2674a788b134ced453d03b9",
            "7324dbc9b5414798b825ea0c6e269eaf",
            "a8f919df8bc04b7599c90a88c2af41c0",
            "74754c923c434dc484ebc098fc1f7b6d",
            "fe4a1c48b47d46c88a04511daa3ef60e",
            "955a9a0a59b64793adf05b19ee969145",
            "742b6bbfae404f08866224723011f601",
            "deb62aae6ff54cdbb3e96654bbfee38c",
            "5f55b512bff84858aa19a69491941bad",
            "50fb9a0d7bd149539289b33e7466779a",
            "c6240b0818734b40bc5110b531350d51",
            "f19d7bfa94d5491b8f30c97eb2a55173",
            "7d00f0631dc64ae7a377b80bbe80cb03",
            "8c8a062e1f4b4295a5bbe396fd075240",
            "85edc1bfd7604e988fb28261d6a07be7",
            "9a2526b2b3514e83a8702be5a6066abb",
            "17a01468185f42a7bf610dee34bd864e",
            "0af83452a17649a9929c52b8c2692ed9"
          ]
        },
        "id": "WEGAfpAoF5su",
        "outputId": "3768e610-7d5f-4827-9829-2588afd67a56"
      },
      "execution_count": 2,
      "outputs": [
        {
          "output_type": "display_data",
          "data": {
            "text/plain": [
              "VBox(children=(HTML(value='<center> <img\\nsrc=https://www.kaggle.com/static/images/site-logo.png\\nalt=\\'Kaggle…"
            ],
            "application/vnd.jupyter.widget-view+json": {
              "version_major": 2,
              "version_minor": 0,
              "model_id": "1c0814ea04214e0cbd006206fffd6756"
            }
          },
          "metadata": {}
        },
        {
          "output_type": "stream",
          "name": "stdout",
          "text": [
            "Kaggle credentials set.\n",
            "Kaggle credentials successfully validated.\n"
          ]
        }
      ]
    },
    {
      "cell_type": "code",
      "source": [
        "# ดาวโหลด์ตัว datasets จาก kaggle เก็บไว้ใน path ที่ระบุ\n",
        "path = dataset_download(\"andrewmvd/face-mask-detection\")\n",
        "print(f\"path ของไฟล์ dataset อยู่ที่: {path}\")"
      ],
      "metadata": {
        "colab": {
          "base_uri": "https://localhost:8080/"
        },
        "id": "NK1I5Tr1IHB8",
        "outputId": "a8be8ee1-f02d-4bf9-8fa4-5734acf2d606"
      },
      "execution_count": 3,
      "outputs": [
        {
          "output_type": "stream",
          "name": "stdout",
          "text": [
            "Downloading from https://www.kaggle.com/api/v1/datasets/download/andrewmvd/face-mask-detection?dataset_version_number=1...\n"
          ]
        },
        {
          "output_type": "stream",
          "name": "stderr",
          "text": [
            "100%|██████████| 398M/398M [00:07<00:00, 59.4MB/s]"
          ]
        },
        {
          "output_type": "stream",
          "name": "stdout",
          "text": [
            "Extracting files...\n"
          ]
        },
        {
          "output_type": "stream",
          "name": "stderr",
          "text": [
            "\n"
          ]
        },
        {
          "output_type": "stream",
          "name": "stdout",
          "text": [
            "path ของไฟล์ dataset อยู่ที่: /root/.cache/kagglehub/datasets/andrewmvd/face-mask-detection/versions/1\n"
          ]
        }
      ]
    },
    {
      "cell_type": "code",
      "execution_count": 64,
      "metadata": {
        "id": "OJ9NexsdEglz"
      },
      "outputs": [],
      "source": [
        "# classes เป็น list ไว้เก็บคำตอบ\n",
        "classes = [\"mask worn incorrectly\", \"with mask\", \"without mask\"]"
      ]
    },
    {
      "cell_type": "code",
      "execution_count": 65,
      "metadata": {
        "id": "PA59E5MPEgl0"
      },
      "outputs": [],
      "source": [
        "# path ที่เก็บข้อมูลรูปภาพไว้ train\n",
        "folder_path = f\"{path}/images\"\n",
        "# path ที่เก็บข้อมูลไฟล์ xml\n",
        "xml_folder = f\"{path}/annotations\""
      ]
    },
    {
      "cell_type": "code",
      "execution_count": 66,
      "metadata": {
        "id": "ph83FqhMEgl2"
      },
      "outputs": [],
      "source": [
        "# สร้าง list ไว้เก็บข้อมูล x และ y\n",
        "# x สำหรับเก็บข้อมูล features ของรูปภาพ\n",
        "x = []\n",
        "# y สำหรับเก็บคำตอบของรูปภาพ\n",
        "y = []"
      ]
    },
    {
      "cell_type": "code",
      "execution_count": 67,
      "metadata": {
        "id": "AdmaPV7zEgl3"
      },
      "outputs": [],
      "source": [
        "# function สำหรับการอ่านข้อมูลในไฟล์ xml\n",
        "def parse_xml(xml_path):\n",
        "    tree = ET.parse(xml_path)\n",
        "    root = tree.getroot()\n",
        "    # เก็บข้อมูลใน tag ของ object\n",
        "    objects = []\n",
        "\n",
        "    # วน loop หา element ที่มีชื่อว่า object และได้กลับคืนมาเป็น list แล้ววน loop\n",
        "    for obj in root.findall(\"object\"):\n",
        "        # หา tag ที่ชื่อ name แล้วอ่าน content ด้านในเก็บ class คำตอบของรูป\n",
        "        label = obj.find(\"name\").text\n",
        "        # หา tag bndbox\n",
        "        bndbox = obj.find(\"bndbox\")\n",
        "        # อ่านข้อมูลด้านใน element bndbox แล้วแปลงค่าเป็น int\n",
        "        xmin = int(bndbox.find(\"xmin\").text)\n",
        "        ymin = int(bndbox.find(\"ymin\").text)\n",
        "        xmax = int(bndbox.find(\"xmax\").text)\n",
        "        ymax = int(bndbox.find(\"ymax\").text)\n",
        "        # เพื่อ dictionary เข้าไปใน list\n",
        "        objects.append({\"label\": label, \"bbox\": [xmin, ymin, xmax, ymax]})\n",
        "\n",
        "    return objects"
      ]
    },
    {
      "cell_type": "code",
      "execution_count": 68,
      "metadata": {
        "id": "rUGq0cy_Egl4"
      },
      "outputs": [],
      "source": [
        "def extract_number(filename):\n",
        "    match = re.search(r\"\\d+\", filename)\n",
        "    return int(match.group()) if match else -1"
      ]
    },
    {
      "cell_type": "code",
      "execution_count": 69,
      "metadata": {
        "id": "lAGhAU8yEgl4",
        "colab": {
          "base_uri": "https://localhost:8080/"
        },
        "outputId": "e1bc98e8-d195-4e6a-d435-416c03cc452e"
      },
      "outputs": [
        {
          "output_type": "stream",
          "name": "stdout",
          "text": [
            "['maksssksksss0.xml', 'maksssksksss1.xml', 'maksssksksss2.xml', 'maksssksksss3.xml', 'maksssksksss4.xml', 'maksssksksss5.xml', 'maksssksksss6.xml', 'maksssksksss7.xml', 'maksssksksss8.xml', 'maksssksksss9.xml', 'maksssksksss10.xml', 'maksssksksss11.xml', 'maksssksksss12.xml', 'maksssksksss13.xml', 'maksssksksss14.xml', 'maksssksksss15.xml', 'maksssksksss16.xml', 'maksssksksss17.xml', 'maksssksksss18.xml', 'maksssksksss19.xml', 'maksssksksss20.xml', 'maksssksksss21.xml', 'maksssksksss22.xml', 'maksssksksss23.xml', 'maksssksksss24.xml', 'maksssksksss25.xml', 'maksssksksss26.xml', 'maksssksksss27.xml', 'maksssksksss28.xml', 'maksssksksss29.xml', 'maksssksksss30.xml', 'maksssksksss31.xml', 'maksssksksss32.xml', 'maksssksksss33.xml', 'maksssksksss34.xml', 'maksssksksss35.xml', 'maksssksksss36.xml', 'maksssksksss37.xml', 'maksssksksss38.xml', 'maksssksksss39.xml', 'maksssksksss40.xml', 'maksssksksss41.xml', 'maksssksksss42.xml', 'maksssksksss43.xml', 'maksssksksss44.xml', 'maksssksksss45.xml', 'maksssksksss46.xml', 'maksssksksss47.xml', 'maksssksksss48.xml', 'maksssksksss49.xml', 'maksssksksss50.xml', 'maksssksksss51.xml', 'maksssksksss52.xml', 'maksssksksss53.xml', 'maksssksksss54.xml', 'maksssksksss55.xml', 'maksssksksss56.xml', 'maksssksksss57.xml', 'maksssksksss58.xml', 'maksssksksss59.xml', 'maksssksksss60.xml', 'maksssksksss61.xml', 'maksssksksss62.xml', 'maksssksksss63.xml', 'maksssksksss64.xml', 'maksssksksss65.xml', 'maksssksksss66.xml', 'maksssksksss67.xml', 'maksssksksss68.xml', 'maksssksksss69.xml', 'maksssksksss70.xml', 'maksssksksss71.xml', 'maksssksksss72.xml', 'maksssksksss73.xml', 'maksssksksss74.xml', 'maksssksksss75.xml', 'maksssksksss76.xml', 'maksssksksss77.xml', 'maksssksksss78.xml', 'maksssksksss79.xml', 'maksssksksss80.xml', 'maksssksksss81.xml', 'maksssksksss82.xml', 'maksssksksss83.xml', 'maksssksksss84.xml', 'maksssksksss85.xml', 'maksssksksss86.xml', 'maksssksksss87.xml', 'maksssksksss88.xml', 'maksssksksss89.xml', 'maksssksksss90.xml', 'maksssksksss91.xml', 'maksssksksss92.xml', 'maksssksksss93.xml', 'maksssksksss94.xml', 'maksssksksss95.xml', 'maksssksksss96.xml', 'maksssksksss97.xml', 'maksssksksss98.xml', 'maksssksksss99.xml', 'maksssksksss100.xml', 'maksssksksss101.xml', 'maksssksksss102.xml', 'maksssksksss103.xml', 'maksssksksss104.xml', 'maksssksksss105.xml', 'maksssksksss106.xml', 'maksssksksss107.xml', 'maksssksksss108.xml', 'maksssksksss109.xml', 'maksssksksss110.xml', 'maksssksksss111.xml', 'maksssksksss112.xml', 'maksssksksss113.xml', 'maksssksksss114.xml', 'maksssksksss115.xml', 'maksssksksss116.xml', 'maksssksksss117.xml', 'maksssksksss118.xml', 'maksssksksss119.xml', 'maksssksksss120.xml', 'maksssksksss121.xml', 'maksssksksss122.xml', 'maksssksksss123.xml', 'maksssksksss124.xml', 'maksssksksss125.xml', 'maksssksksss126.xml', 'maksssksksss127.xml', 'maksssksksss128.xml', 'maksssksksss129.xml', 'maksssksksss130.xml', 'maksssksksss131.xml', 'maksssksksss132.xml', 'maksssksksss133.xml', 'maksssksksss134.xml', 'maksssksksss135.xml', 'maksssksksss136.xml', 'maksssksksss137.xml', 'maksssksksss138.xml', 'maksssksksss139.xml', 'maksssksksss140.xml', 'maksssksksss141.xml', 'maksssksksss142.xml', 'maksssksksss143.xml', 'maksssksksss144.xml', 'maksssksksss145.xml', 'maksssksksss146.xml', 'maksssksksss147.xml', 'maksssksksss148.xml', 'maksssksksss149.xml', 'maksssksksss150.xml', 'maksssksksss151.xml', 'maksssksksss152.xml', 'maksssksksss153.xml', 'maksssksksss154.xml', 'maksssksksss155.xml', 'maksssksksss156.xml', 'maksssksksss157.xml', 'maksssksksss158.xml', 'maksssksksss159.xml', 'maksssksksss160.xml', 'maksssksksss161.xml', 'maksssksksss162.xml', 'maksssksksss163.xml', 'maksssksksss164.xml', 'maksssksksss165.xml', 'maksssksksss166.xml', 'maksssksksss167.xml', 'maksssksksss168.xml', 'maksssksksss169.xml', 'maksssksksss170.xml', 'maksssksksss171.xml', 'maksssksksss172.xml', 'maksssksksss173.xml', 'maksssksksss174.xml', 'maksssksksss175.xml', 'maksssksksss176.xml', 'maksssksksss177.xml', 'maksssksksss178.xml', 'maksssksksss179.xml', 'maksssksksss180.xml', 'maksssksksss181.xml', 'maksssksksss182.xml', 'maksssksksss183.xml', 'maksssksksss184.xml', 'maksssksksss185.xml', 'maksssksksss186.xml', 'maksssksksss187.xml', 'maksssksksss188.xml', 'maksssksksss189.xml', 'maksssksksss190.xml', 'maksssksksss191.xml', 'maksssksksss192.xml', 'maksssksksss193.xml', 'maksssksksss194.xml', 'maksssksksss195.xml', 'maksssksksss196.xml', 'maksssksksss197.xml', 'maksssksksss198.xml', 'maksssksksss199.xml', 'maksssksksss200.xml', 'maksssksksss201.xml', 'maksssksksss202.xml', 'maksssksksss203.xml', 'maksssksksss204.xml', 'maksssksksss205.xml', 'maksssksksss206.xml', 'maksssksksss207.xml', 'maksssksksss208.xml', 'maksssksksss209.xml', 'maksssksksss210.xml', 'maksssksksss211.xml', 'maksssksksss212.xml', 'maksssksksss213.xml', 'maksssksksss214.xml', 'maksssksksss215.xml', 'maksssksksss216.xml', 'maksssksksss217.xml', 'maksssksksss218.xml', 'maksssksksss219.xml', 'maksssksksss220.xml', 'maksssksksss221.xml', 'maksssksksss222.xml', 'maksssksksss223.xml', 'maksssksksss224.xml', 'maksssksksss225.xml', 'maksssksksss226.xml', 'maksssksksss227.xml', 'maksssksksss228.xml', 'maksssksksss229.xml', 'maksssksksss230.xml', 'maksssksksss231.xml', 'maksssksksss232.xml', 'maksssksksss233.xml', 'maksssksksss234.xml', 'maksssksksss235.xml', 'maksssksksss236.xml', 'maksssksksss237.xml', 'maksssksksss238.xml', 'maksssksksss239.xml', 'maksssksksss240.xml', 'maksssksksss241.xml', 'maksssksksss242.xml', 'maksssksksss243.xml', 'maksssksksss244.xml', 'maksssksksss245.xml', 'maksssksksss246.xml', 'maksssksksss247.xml', 'maksssksksss248.xml', 'maksssksksss249.xml', 'maksssksksss250.xml', 'maksssksksss251.xml', 'maksssksksss252.xml', 'maksssksksss253.xml', 'maksssksksss254.xml', 'maksssksksss255.xml', 'maksssksksss256.xml', 'maksssksksss257.xml', 'maksssksksss258.xml', 'maksssksksss259.xml', 'maksssksksss260.xml', 'maksssksksss261.xml', 'maksssksksss262.xml', 'maksssksksss263.xml', 'maksssksksss264.xml', 'maksssksksss265.xml', 'maksssksksss266.xml', 'maksssksksss267.xml', 'maksssksksss268.xml', 'maksssksksss269.xml', 'maksssksksss270.xml', 'maksssksksss271.xml', 'maksssksksss272.xml', 'maksssksksss273.xml', 'maksssksksss274.xml', 'maksssksksss275.xml', 'maksssksksss276.xml', 'maksssksksss277.xml', 'maksssksksss278.xml', 'maksssksksss279.xml', 'maksssksksss280.xml', 'maksssksksss281.xml', 'maksssksksss282.xml', 'maksssksksss283.xml', 'maksssksksss284.xml', 'maksssksksss285.xml', 'maksssksksss286.xml', 'maksssksksss287.xml', 'maksssksksss288.xml', 'maksssksksss289.xml', 'maksssksksss290.xml', 'maksssksksss291.xml', 'maksssksksss292.xml', 'maksssksksss293.xml', 'maksssksksss294.xml', 'maksssksksss295.xml', 'maksssksksss296.xml', 'maksssksksss297.xml', 'maksssksksss298.xml', 'maksssksksss299.xml', 'maksssksksss300.xml', 'maksssksksss301.xml', 'maksssksksss302.xml', 'maksssksksss303.xml', 'maksssksksss304.xml', 'maksssksksss305.xml', 'maksssksksss306.xml', 'maksssksksss307.xml', 'maksssksksss308.xml', 'maksssksksss309.xml', 'maksssksksss310.xml', 'maksssksksss311.xml', 'maksssksksss312.xml', 'maksssksksss313.xml', 'maksssksksss314.xml', 'maksssksksss315.xml', 'maksssksksss316.xml', 'maksssksksss317.xml', 'maksssksksss318.xml', 'maksssksksss319.xml', 'maksssksksss320.xml', 'maksssksksss321.xml', 'maksssksksss322.xml', 'maksssksksss323.xml', 'maksssksksss324.xml', 'maksssksksss325.xml', 'maksssksksss326.xml', 'maksssksksss327.xml', 'maksssksksss328.xml', 'maksssksksss329.xml', 'maksssksksss330.xml', 'maksssksksss331.xml', 'maksssksksss332.xml', 'maksssksksss333.xml', 'maksssksksss334.xml', 'maksssksksss335.xml', 'maksssksksss336.xml', 'maksssksksss337.xml', 'maksssksksss338.xml', 'maksssksksss339.xml', 'maksssksksss340.xml', 'maksssksksss341.xml', 'maksssksksss342.xml', 'maksssksksss343.xml', 'maksssksksss344.xml', 'maksssksksss345.xml', 'maksssksksss346.xml', 'maksssksksss347.xml', 'maksssksksss348.xml', 'maksssksksss349.xml', 'maksssksksss350.xml', 'maksssksksss351.xml', 'maksssksksss352.xml', 'maksssksksss353.xml', 'maksssksksss354.xml', 'maksssksksss355.xml', 'maksssksksss356.xml', 'maksssksksss357.xml', 'maksssksksss358.xml', 'maksssksksss359.xml', 'maksssksksss360.xml', 'maksssksksss361.xml', 'maksssksksss362.xml', 'maksssksksss363.xml', 'maksssksksss364.xml', 'maksssksksss365.xml', 'maksssksksss366.xml', 'maksssksksss367.xml', 'maksssksksss368.xml', 'maksssksksss369.xml', 'maksssksksss370.xml', 'maksssksksss371.xml', 'maksssksksss372.xml', 'maksssksksss373.xml', 'maksssksksss374.xml', 'maksssksksss375.xml', 'maksssksksss376.xml', 'maksssksksss377.xml', 'maksssksksss378.xml', 'maksssksksss379.xml', 'maksssksksss380.xml', 'maksssksksss381.xml', 'maksssksksss382.xml', 'maksssksksss383.xml', 'maksssksksss384.xml', 'maksssksksss385.xml', 'maksssksksss386.xml', 'maksssksksss387.xml', 'maksssksksss388.xml', 'maksssksksss389.xml', 'maksssksksss390.xml', 'maksssksksss391.xml', 'maksssksksss392.xml', 'maksssksksss393.xml', 'maksssksksss394.xml', 'maksssksksss395.xml', 'maksssksksss396.xml', 'maksssksksss397.xml', 'maksssksksss398.xml', 'maksssksksss399.xml', 'maksssksksss400.xml', 'maksssksksss401.xml', 'maksssksksss402.xml', 'maksssksksss403.xml', 'maksssksksss404.xml', 'maksssksksss405.xml', 'maksssksksss406.xml', 'maksssksksss407.xml', 'maksssksksss408.xml', 'maksssksksss409.xml', 'maksssksksss410.xml', 'maksssksksss411.xml', 'maksssksksss412.xml', 'maksssksksss413.xml', 'maksssksksss414.xml', 'maksssksksss415.xml', 'maksssksksss416.xml', 'maksssksksss417.xml', 'maksssksksss418.xml', 'maksssksksss419.xml', 'maksssksksss420.xml', 'maksssksksss421.xml', 'maksssksksss422.xml', 'maksssksksss423.xml', 'maksssksksss424.xml', 'maksssksksss425.xml', 'maksssksksss426.xml', 'maksssksksss427.xml', 'maksssksksss428.xml', 'maksssksksss429.xml', 'maksssksksss430.xml', 'maksssksksss431.xml', 'maksssksksss432.xml', 'maksssksksss433.xml', 'maksssksksss434.xml', 'maksssksksss435.xml', 'maksssksksss436.xml', 'maksssksksss437.xml', 'maksssksksss438.xml', 'maksssksksss439.xml', 'maksssksksss440.xml', 'maksssksksss441.xml', 'maksssksksss442.xml', 'maksssksksss443.xml', 'maksssksksss444.xml', 'maksssksksss445.xml', 'maksssksksss446.xml', 'maksssksksss447.xml', 'maksssksksss448.xml', 'maksssksksss449.xml', 'maksssksksss450.xml', 'maksssksksss451.xml', 'maksssksksss452.xml', 'maksssksksss453.xml', 'maksssksksss454.xml', 'maksssksksss455.xml', 'maksssksksss456.xml', 'maksssksksss457.xml', 'maksssksksss458.xml', 'maksssksksss459.xml', 'maksssksksss460.xml', 'maksssksksss461.xml', 'maksssksksss462.xml', 'maksssksksss463.xml', 'maksssksksss464.xml', 'maksssksksss465.xml', 'maksssksksss466.xml', 'maksssksksss467.xml', 'maksssksksss468.xml', 'maksssksksss469.xml', 'maksssksksss470.xml', 'maksssksksss471.xml', 'maksssksksss472.xml', 'maksssksksss473.xml', 'maksssksksss474.xml', 'maksssksksss475.xml', 'maksssksksss476.xml', 'maksssksksss477.xml', 'maksssksksss478.xml', 'maksssksksss479.xml', 'maksssksksss480.xml', 'maksssksksss481.xml', 'maksssksksss482.xml', 'maksssksksss483.xml', 'maksssksksss484.xml', 'maksssksksss485.xml', 'maksssksksss486.xml', 'maksssksksss487.xml', 'maksssksksss488.xml', 'maksssksksss489.xml', 'maksssksksss490.xml', 'maksssksksss491.xml', 'maksssksksss492.xml', 'maksssksksss493.xml', 'maksssksksss494.xml', 'maksssksksss495.xml', 'maksssksksss496.xml', 'maksssksksss497.xml', 'maksssksksss498.xml', 'maksssksksss499.xml', 'maksssksksss500.xml', 'maksssksksss501.xml', 'maksssksksss502.xml', 'maksssksksss503.xml', 'maksssksksss504.xml', 'maksssksksss505.xml', 'maksssksksss506.xml', 'maksssksksss507.xml', 'maksssksksss508.xml', 'maksssksksss509.xml', 'maksssksksss510.xml', 'maksssksksss511.xml', 'maksssksksss512.xml', 'maksssksksss513.xml', 'maksssksksss514.xml', 'maksssksksss515.xml', 'maksssksksss516.xml', 'maksssksksss517.xml', 'maksssksksss518.xml', 'maksssksksss519.xml', 'maksssksksss520.xml', 'maksssksksss521.xml', 'maksssksksss522.xml', 'maksssksksss523.xml', 'maksssksksss524.xml', 'maksssksksss525.xml', 'maksssksksss526.xml', 'maksssksksss527.xml', 'maksssksksss528.xml', 'maksssksksss529.xml', 'maksssksksss530.xml', 'maksssksksss531.xml', 'maksssksksss532.xml', 'maksssksksss533.xml', 'maksssksksss534.xml', 'maksssksksss535.xml', 'maksssksksss536.xml', 'maksssksksss537.xml', 'maksssksksss538.xml', 'maksssksksss539.xml', 'maksssksksss540.xml', 'maksssksksss541.xml', 'maksssksksss542.xml', 'maksssksksss543.xml', 'maksssksksss544.xml', 'maksssksksss545.xml', 'maksssksksss546.xml', 'maksssksksss547.xml', 'maksssksksss548.xml', 'maksssksksss549.xml', 'maksssksksss550.xml', 'maksssksksss551.xml', 'maksssksksss552.xml', 'maksssksksss553.xml', 'maksssksksss554.xml', 'maksssksksss555.xml', 'maksssksksss556.xml', 'maksssksksss557.xml', 'maksssksksss558.xml', 'maksssksksss559.xml', 'maksssksksss560.xml', 'maksssksksss561.xml', 'maksssksksss562.xml', 'maksssksksss563.xml', 'maksssksksss564.xml', 'maksssksksss565.xml', 'maksssksksss566.xml', 'maksssksksss567.xml', 'maksssksksss568.xml', 'maksssksksss569.xml', 'maksssksksss570.xml', 'maksssksksss571.xml', 'maksssksksss572.xml', 'maksssksksss573.xml', 'maksssksksss574.xml', 'maksssksksss575.xml', 'maksssksksss576.xml', 'maksssksksss577.xml', 'maksssksksss578.xml', 'maksssksksss579.xml', 'maksssksksss580.xml', 'maksssksksss581.xml', 'maksssksksss582.xml', 'maksssksksss583.xml', 'maksssksksss584.xml', 'maksssksksss585.xml', 'maksssksksss586.xml', 'maksssksksss587.xml', 'maksssksksss588.xml', 'maksssksksss589.xml', 'maksssksksss590.xml', 'maksssksksss591.xml', 'maksssksksss592.xml', 'maksssksksss593.xml', 'maksssksksss594.xml', 'maksssksksss595.xml', 'maksssksksss596.xml', 'maksssksksss597.xml', 'maksssksksss598.xml', 'maksssksksss599.xml', 'maksssksksss600.xml', 'maksssksksss601.xml', 'maksssksksss602.xml', 'maksssksksss603.xml', 'maksssksksss604.xml', 'maksssksksss605.xml', 'maksssksksss606.xml', 'maksssksksss607.xml', 'maksssksksss608.xml', 'maksssksksss609.xml', 'maksssksksss610.xml', 'maksssksksss611.xml', 'maksssksksss612.xml', 'maksssksksss613.xml', 'maksssksksss614.xml', 'maksssksksss615.xml', 'maksssksksss616.xml', 'maksssksksss617.xml', 'maksssksksss618.xml', 'maksssksksss619.xml', 'maksssksksss620.xml', 'maksssksksss621.xml', 'maksssksksss622.xml', 'maksssksksss623.xml', 'maksssksksss624.xml', 'maksssksksss625.xml', 'maksssksksss626.xml', 'maksssksksss627.xml', 'maksssksksss628.xml', 'maksssksksss629.xml', 'maksssksksss630.xml', 'maksssksksss631.xml', 'maksssksksss632.xml', 'maksssksksss633.xml', 'maksssksksss634.xml', 'maksssksksss635.xml', 'maksssksksss636.xml', 'maksssksksss637.xml', 'maksssksksss638.xml', 'maksssksksss639.xml', 'maksssksksss640.xml', 'maksssksksss641.xml', 'maksssksksss642.xml', 'maksssksksss643.xml', 'maksssksksss644.xml', 'maksssksksss645.xml', 'maksssksksss646.xml', 'maksssksksss647.xml', 'maksssksksss648.xml', 'maksssksksss649.xml', 'maksssksksss650.xml', 'maksssksksss651.xml', 'maksssksksss652.xml', 'maksssksksss653.xml', 'maksssksksss654.xml', 'maksssksksss655.xml', 'maksssksksss656.xml', 'maksssksksss657.xml', 'maksssksksss658.xml', 'maksssksksss659.xml', 'maksssksksss660.xml', 'maksssksksss661.xml', 'maksssksksss662.xml', 'maksssksksss663.xml', 'maksssksksss664.xml', 'maksssksksss665.xml', 'maksssksksss666.xml', 'maksssksksss667.xml', 'maksssksksss668.xml', 'maksssksksss669.xml', 'maksssksksss670.xml', 'maksssksksss671.xml', 'maksssksksss672.xml', 'maksssksksss673.xml', 'maksssksksss674.xml', 'maksssksksss675.xml', 'maksssksksss676.xml', 'maksssksksss677.xml', 'maksssksksss678.xml', 'maksssksksss679.xml', 'maksssksksss680.xml', 'maksssksksss681.xml', 'maksssksksss682.xml', 'maksssksksss683.xml', 'maksssksksss684.xml', 'maksssksksss685.xml', 'maksssksksss686.xml', 'maksssksksss687.xml', 'maksssksksss688.xml', 'maksssksksss689.xml', 'maksssksksss690.xml', 'maksssksksss691.xml', 'maksssksksss692.xml', 'maksssksksss693.xml', 'maksssksksss694.xml', 'maksssksksss695.xml', 'maksssksksss696.xml', 'maksssksksss697.xml', 'maksssksksss698.xml', 'maksssksksss699.xml', 'maksssksksss700.xml', 'maksssksksss701.xml', 'maksssksksss702.xml', 'maksssksksss703.xml', 'maksssksksss704.xml', 'maksssksksss705.xml', 'maksssksksss706.xml', 'maksssksksss707.xml', 'maksssksksss708.xml', 'maksssksksss709.xml', 'maksssksksss710.xml', 'maksssksksss711.xml', 'maksssksksss712.xml', 'maksssksksss713.xml', 'maksssksksss714.xml', 'maksssksksss715.xml', 'maksssksksss716.xml', 'maksssksksss717.xml', 'maksssksksss718.xml', 'maksssksksss719.xml', 'maksssksksss720.xml', 'maksssksksss721.xml', 'maksssksksss722.xml', 'maksssksksss723.xml', 'maksssksksss724.xml', 'maksssksksss725.xml', 'maksssksksss726.xml', 'maksssksksss727.xml', 'maksssksksss728.xml', 'maksssksksss729.xml', 'maksssksksss730.xml', 'maksssksksss731.xml', 'maksssksksss732.xml', 'maksssksksss733.xml', 'maksssksksss734.xml', 'maksssksksss735.xml', 'maksssksksss736.xml', 'maksssksksss737.xml', 'maksssksksss738.xml', 'maksssksksss739.xml', 'maksssksksss740.xml', 'maksssksksss741.xml', 'maksssksksss742.xml', 'maksssksksss743.xml', 'maksssksksss744.xml', 'maksssksksss745.xml', 'maksssksksss746.xml', 'maksssksksss747.xml', 'maksssksksss748.xml', 'maksssksksss749.xml', 'maksssksksss750.xml', 'maksssksksss751.xml', 'maksssksksss752.xml', 'maksssksksss753.xml', 'maksssksksss754.xml', 'maksssksksss755.xml', 'maksssksksss756.xml', 'maksssksksss757.xml', 'maksssksksss758.xml', 'maksssksksss759.xml', 'maksssksksss760.xml', 'maksssksksss761.xml', 'maksssksksss762.xml', 'maksssksksss763.xml', 'maksssksksss764.xml', 'maksssksksss765.xml', 'maksssksksss766.xml', 'maksssksksss767.xml', 'maksssksksss768.xml', 'maksssksksss769.xml', 'maksssksksss770.xml', 'maksssksksss771.xml', 'maksssksksss772.xml', 'maksssksksss773.xml', 'maksssksksss774.xml', 'maksssksksss775.xml', 'maksssksksss776.xml', 'maksssksksss777.xml', 'maksssksksss778.xml', 'maksssksksss779.xml', 'maksssksksss780.xml', 'maksssksksss781.xml', 'maksssksksss782.xml', 'maksssksksss783.xml', 'maksssksksss784.xml', 'maksssksksss785.xml', 'maksssksksss786.xml', 'maksssksksss787.xml', 'maksssksksss788.xml', 'maksssksksss789.xml', 'maksssksksss790.xml', 'maksssksksss791.xml', 'maksssksksss792.xml', 'maksssksksss793.xml', 'maksssksksss794.xml', 'maksssksksss795.xml', 'maksssksksss796.xml', 'maksssksksss797.xml', 'maksssksksss798.xml', 'maksssksksss799.xml', 'maksssksksss800.xml', 'maksssksksss801.xml', 'maksssksksss802.xml', 'maksssksksss803.xml', 'maksssksksss804.xml', 'maksssksksss805.xml', 'maksssksksss806.xml', 'maksssksksss807.xml', 'maksssksksss808.xml', 'maksssksksss809.xml', 'maksssksksss810.xml', 'maksssksksss811.xml', 'maksssksksss812.xml', 'maksssksksss813.xml', 'maksssksksss814.xml', 'maksssksksss815.xml', 'maksssksksss816.xml', 'maksssksksss817.xml', 'maksssksksss818.xml', 'maksssksksss819.xml', 'maksssksksss820.xml', 'maksssksksss821.xml', 'maksssksksss822.xml', 'maksssksksss823.xml', 'maksssksksss824.xml', 'maksssksksss825.xml', 'maksssksksss826.xml', 'maksssksksss827.xml', 'maksssksksss828.xml', 'maksssksksss829.xml', 'maksssksksss830.xml', 'maksssksksss831.xml', 'maksssksksss832.xml', 'maksssksksss833.xml', 'maksssksksss834.xml', 'maksssksksss835.xml', 'maksssksksss836.xml', 'maksssksksss837.xml', 'maksssksksss838.xml', 'maksssksksss839.xml', 'maksssksksss840.xml', 'maksssksksss841.xml', 'maksssksksss842.xml', 'maksssksksss843.xml', 'maksssksksss844.xml', 'maksssksksss845.xml', 'maksssksksss846.xml', 'maksssksksss847.xml', 'maksssksksss848.xml', 'maksssksksss849.xml', 'maksssksksss850.xml', 'maksssksksss851.xml', 'maksssksksss852.xml']\n"
          ]
        }
      ],
      "source": [
        "# list เก็บชื่อไฟล์ xml แบบเรียงลำดับชื่อไฟล์เป็นไฟล์ข้อมูลสำหรับแต่หล่ะรูปภาพ\n",
        "xml_files = sorted(os.listdir(xml_folder), key=extract_number)\n",
        "# สร้าง object ของ label encoder ไว้ normalize ตัว label ของรูป\n",
        "encoder = LabelEncoder()\n",
        "\n",
        "# แสดงผล list ที่เก็บไฟล์ xml ไว้\n",
        "print(xml_files)"
      ]
    },
    {
      "cell_type": "code",
      "execution_count": 70,
      "metadata": {
        "id": "UKD1UTe0Egl8"
      },
      "outputs": [],
      "source": [
        "# วน loop แต่ล่ะชื่อ xml file\n",
        "for file in xml_files:\n",
        "    # เอา path ของที่เก็บไฟล์ xml  มา join กับชื่อไฟล์ จะได้ตำแหน่ง path ที่แท้จริงของไฟล์ xml\n",
        "    file_path = os.path.join(xml_folder, file)\n",
        "\n",
        "    # เช็คตรวจสอบไฟล์ว่ามี path ไฟล์นั้นอยู่จริงไหม หรือไฟล์นั้นไม่ใช่ไฟล์ นามสกุล .xml ให้ข้าม loop นั้น\n",
        "    if not os.path.isfile(file_path) or not file.lower().endswith('.xml'):\n",
        "        continue\n",
        "\n",
        "    try:\n",
        "        # แปลงไฟล์ นามสกุลลงท้าย .xml เป็น .png ชื่อไฟล์ xml กับ ชื่อรูปภาพเหมือนกันต่างกันแค่คนหล่ะนามสกุลไฟล์\n",
        "        image_name = file.replace(\".xml\", \".png\")\n",
        "        # เอา path ที่เก็บรูปภาพมา join กับ ชื่อไฟล์รูปภาพที่พึ่งแก้นามสกุลไฟลืไป ได้เป็น path ของรูปภาพที่แท้จริง\n",
        "        image_path = os.path.join(folder_path, image_name)\n",
        "\n",
        "        # เช็คเงื่อนไขถ้า path ของรูปภาพไม่มีอยู่ ให้ข้าม loop นั้นไป\n",
        "        if not os.path.exists(image_path):\n",
        "            print(f\"Image not found: {image_path}\")\n",
        "            continue\n",
        "\n",
        "        # เปิดรูปภาพตามตำแหน่งของ path รูปภาพแล้วแปลงรูปภาพนั้นให้เป็น grayscale\n",
        "        img = Image.open(image_path).convert('L')\n",
        "        # ปรับขนาดของรูปภาพที่ size หลายขนาดให้เป็นขนาด 512 x 512 (height = width)\n",
        "        img = img.resize((512, 512))\n",
        "        # เพิ่ม element เข้าไปใน list โดยให้รูปภาพปรับขนาดรูปร่างความกว้างและความสูงเป็น 512 และ มีช่องสีแค่ 1\n",
        "        x.append(np.array(img).reshape(512, 512, 1))\n",
        "\n",
        "        # เรียกใช้ function ได้เป็น list ที่เก็บ dictionary ที่เป็นคุณสมบัติของรูปภาพ\n",
        "        objects = parse_xml(file_path)\n",
        "\n",
        "        # เช็คถ้า objects นั้นไม่ใช้ list ว่าง (มี elements อยู่ใน list) ให้ทำเงื่อนไขด้านล่างนี้\n",
        "        if objects:\n",
        "            # อ่านคำตอบมาแค่ 1 คนจากรูปภาพนั้น\n",
        "            # ให้ตัวแปร y เก็บ class ของคำตอบแต่ล่ะรูป\n",
        "            y.append(objects[0][\"label\"])\n",
        "        else:\n",
        "            print(f\"Warning: No objects found in {file_path}\")\n",
        "            continue\n",
        "    except Exception as e:\n",
        "        print(f\"Error processing {file}: {e}\")\n",
        "\n",
        "# เช็คถ้าข้อมูลนั้นไม่มีอยู่ให้โยน exception นี้ออกไป\n",
        "if len(x) == 0:\n",
        "    raise ValueError(\"No data found! Check your dataset paths and XML annotations.\")\n",
        "\n",
        "# encoded ตัวคำตอบ labels แปลงจาก string -> int ค่าอยู่ในช่วง 0 - 2\n",
        "y = encoder.fit_transform(y)\n",
        "# แปลงข้อมูล array จากชนิด unsigned int -> float และหารด้วย 255 เพิ่อแปลงเป็น grayscale\n",
        "x = np.array(x).astype('float32') / 255.0\n",
        "\n",
        "# เช็คเงื่อนไขว่ามีข้อมูลไหม\n",
        "if len(x) > 1 and len(y) > 1:\n",
        "  # แบ่งข้อมูล train และ test\n",
        "    x_train, x_test, y_train, y_test = train_test_split(x, y, test_size=0.2, random_state=42)\n",
        "else:\n",
        "    print(\"Not enough data to split, using all data for training\")"
      ]
    },
    {
      "cell_type": "code",
      "source": [
        "# แสดงผลขนาดรูปร่างของข้อมูล train และ test\n",
        "# จำนวนข้อมูลรูปภาพมีทั้งหมด 853 รูป แบ่งเป็น train 682 รูป และ test 171 รูป\n",
        "print(x_train.shape)\n",
        "print(x_test.shape)\n",
        "print(y_train.shape)\n",
        "print(y_test.shape)"
      ],
      "metadata": {
        "colab": {
          "base_uri": "https://localhost:8080/"
        },
        "id": "bIdZy3T0crGH",
        "outputId": "6d43f4c1-c087-4ec6-9f52-20af912ad8d3"
      },
      "execution_count": 71,
      "outputs": [
        {
          "output_type": "stream",
          "name": "stdout",
          "text": [
            "(682, 512, 512, 1)\n",
            "(171, 512, 512, 1)\n",
            "(682,)\n",
            "(171,)\n"
          ]
        }
      ]
    },
    {
      "cell_type": "markdown",
      "source": [
        "### Neural Netwoerk Model"
      ],
      "metadata": {
        "id": "2_w58r31uhDx"
      }
    },
    {
      "cell_type": "code",
      "execution_count": 72,
      "metadata": {
        "id": "zIx3B18vEgl8",
        "colab": {
          "base_uri": "https://localhost:8080/"
        },
        "outputId": "9c992d4c-2ed8-40be-af46-b02aaa9b2ce5"
      },
      "outputs": [
        {
          "output_type": "stream",
          "name": "stderr",
          "text": [
            "/usr/local/lib/python3.11/dist-packages/keras/src/layers/reshaping/flatten.py:37: UserWarning: Do not pass an `input_shape`/`input_dim` argument to a layer. When using Sequential models, prefer using an `Input(shape)` object as the first layer in the model instead.\n",
            "  super().__init__(**kwargs)\n"
          ]
        }
      ],
      "source": [
        "# สร้าง object ของ model\n",
        "model = Sequential()\n",
        "\n",
        "# เพิ่มแต่ล่ะ layers ให้ model\n",
        "model.add(Flatten(input_shape=(512, 512, 1)))\n",
        "model.add(Dense(512, activation='relu'))\n",
        "model.add(Dropout(0.5))\n",
        "model.add(Dense(3, activation='softmax'))"
      ]
    },
    {
      "cell_type": "code",
      "execution_count": 74,
      "metadata": {
        "id": "0Xv44UZ0Egl9"
      },
      "outputs": [],
      "source": [
        "# compile model\n",
        "model.compile(loss='sparse_categorical_crossentropy', optimizer='adam', metrics=['accuracy'])"
      ]
    },
    {
      "cell_type": "code",
      "execution_count": 75,
      "metadata": {
        "id": "vq-uvbnCEgl-",
        "colab": {
          "base_uri": "https://localhost:8080/"
        },
        "outputId": "9fb688d5-42d4-441b-de22-c7355d182b6f"
      },
      "outputs": [
        {
          "output_type": "stream",
          "name": "stdout",
          "text": [
            "Epoch 1/14\n",
            "\u001b[1m22/22\u001b[0m \u001b[32m━━━━━━━━━━━━━━━━━━━━\u001b[0m\u001b[37m\u001b[0m \u001b[1m67s\u001b[0m 3s/step - accuracy: 0.6629 - loss: 170.3936\n",
            "Epoch 2/14\n",
            "\u001b[1m22/22\u001b[0m \u001b[32m━━━━━━━━━━━━━━━━━━━━\u001b[0m\u001b[37m\u001b[0m \u001b[1m82s\u001b[0m 3s/step - accuracy: 0.6272 - loss: 93.0451\n",
            "Epoch 3/14\n",
            "\u001b[1m22/22\u001b[0m \u001b[32m━━━━━━━━━━━━━━━━━━━━\u001b[0m\u001b[37m\u001b[0m \u001b[1m81s\u001b[0m 3s/step - accuracy: 0.7256 - loss: 25.7891\n",
            "Epoch 4/14\n",
            "\u001b[1m22/22\u001b[0m \u001b[32m━━━━━━━━━━━━━━━━━━━━\u001b[0m\u001b[37m\u001b[0m \u001b[1m59s\u001b[0m 3s/step - accuracy: 0.7086 - loss: 2.0923\n",
            "Epoch 5/14\n",
            "\u001b[1m22/22\u001b[0m \u001b[32m━━━━━━━━━━━━━━━━━━━━\u001b[0m\u001b[37m\u001b[0m \u001b[1m80s\u001b[0m 3s/step - accuracy: 0.7797 - loss: 0.8448\n",
            "Epoch 6/14\n",
            "\u001b[1m22/22\u001b[0m \u001b[32m━━━━━━━━━━━━━━━━━━━━\u001b[0m\u001b[37m\u001b[0m \u001b[1m85s\u001b[0m 3s/step - accuracy: 0.7810 - loss: 0.7578\n",
            "Epoch 7/14\n",
            "\u001b[1m22/22\u001b[0m \u001b[32m━━━━━━━━━━━━━━━━━━━━\u001b[0m\u001b[37m\u001b[0m \u001b[1m81s\u001b[0m 3s/step - accuracy: 0.8275 - loss: 0.7740\n",
            "Epoch 8/14\n",
            "\u001b[1m22/22\u001b[0m \u001b[32m━━━━━━━━━━━━━━━━━━━━\u001b[0m\u001b[37m\u001b[0m \u001b[1m81s\u001b[0m 3s/step - accuracy: 0.7928 - loss: 0.8371\n",
            "Epoch 9/14\n",
            "\u001b[1m22/22\u001b[0m \u001b[32m━━━━━━━━━━━━━━━━━━━━\u001b[0m\u001b[37m\u001b[0m \u001b[1m59s\u001b[0m 3s/step - accuracy: 0.8230 - loss: 0.7546\n",
            "Epoch 10/14\n",
            "\u001b[1m22/22\u001b[0m \u001b[32m━━━━━━━━━━━━━━━━━━━━\u001b[0m\u001b[37m\u001b[0m \u001b[1m82s\u001b[0m 3s/step - accuracy: 0.7731 - loss: 0.7637\n",
            "Epoch 11/14\n",
            "\u001b[1m22/22\u001b[0m \u001b[32m━━━━━━━━━━━━━━━━━━━━\u001b[0m\u001b[37m\u001b[0m \u001b[1m82s\u001b[0m 3s/step - accuracy: 0.8115 - loss: 0.7431\n",
            "Epoch 12/14\n",
            "\u001b[1m22/22\u001b[0m \u001b[32m━━━━━━━━━━━━━━━━━━━━\u001b[0m\u001b[37m\u001b[0m \u001b[1m89s\u001b[0m 3s/step - accuracy: 0.7955 - loss: 0.6720\n",
            "Epoch 13/14\n",
            "\u001b[1m22/22\u001b[0m \u001b[32m━━━━━━━━━━━━━━━━━━━━\u001b[0m\u001b[37m\u001b[0m \u001b[1m77s\u001b[0m 3s/step - accuracy: 0.8018 - loss: 0.6678\n",
            "Epoch 14/14\n",
            "\u001b[1m22/22\u001b[0m \u001b[32m━━━━━━━━━━━━━━━━━━━━\u001b[0m\u001b[37m\u001b[0m \u001b[1m78s\u001b[0m 3s/step - accuracy: 0.8022 - loss: 0.7599\n"
          ]
        },
        {
          "output_type": "execute_result",
          "data": {
            "text/plain": [
              "<keras.src.callbacks.history.History at 0x7fad6edcc550>"
            ]
          },
          "metadata": {},
          "execution_count": 75
        }
      ],
      "source": [
        "# train model 14 รอบ\n",
        "model.fit(x_train, y_train, epochs=14)"
      ]
    },
    {
      "cell_type": "code",
      "execution_count": 77,
      "metadata": {
        "id": "CU9qsiyhEgl_",
        "colab": {
          "base_uri": "https://localhost:8080/"
        },
        "outputId": "1aae06cf-be84-4bc6-d065-a063d9981f76"
      },
      "outputs": [
        {
          "output_type": "stream",
          "name": "stdout",
          "text": [
            "\u001b[1m6/6\u001b[0m \u001b[32m━━━━━━━━━━━━━━━━━━━━\u001b[0m\u001b[37m\u001b[0m \u001b[1m2s\u001b[0m 225ms/step - accuracy: 0.8535 - loss: 0.6182\n",
            "Accuracy: 0.8771929740905762\n",
            "Loss: 0.6034767031669617\n"
          ]
        }
      ],
      "source": [
        "# คำนวณค่า accuracy และ ค่า loss ของ model\n",
        "loss, accuracy = model.evaluate(x_test, y_test)\n",
        "\n",
        "# แสดงผลค่าออกมา\n",
        "print(f\"Accuracy: {accuracy}\")\n",
        "print(f\"Loss: {loss}\")"
      ]
    },
    {
      "cell_type": "code",
      "execution_count": 79,
      "metadata": {
        "id": "5ni3PDoNEgmA"
      },
      "outputs": [],
      "source": [
        "# บันทึกตัว model เป็นไฟล์ .keras\n",
        "model.save('/content/face_mask_detection_model.keras')"
      ]
    },
    {
      "cell_type": "code",
      "source": [
        "# ทำนายผลลัพธ์จากข้อมูลทดสอบ\n",
        "y_pred = model.predict(x_test)\n",
        "y_pred_classes = np.argmax(y_pred, axis=1)\n",
        "\n",
        "# คำนวณค่า precision, recall และค่าอื่นๆ\n",
        "report = classification_report(y_test, y_pred_classes, target_names=classes)\n",
        "\n",
        "# แสดงผลลัพธ์\n",
        "print(report)"
      ],
      "metadata": {
        "colab": {
          "base_uri": "https://localhost:8080/"
        },
        "id": "-_osnPDPxsEQ",
        "outputId": "a130ba13-53e5-48ed-aa0b-a35b6d745fca"
      },
      "execution_count": 80,
      "outputs": [
        {
          "output_type": "stream",
          "name": "stdout",
          "text": [
            "\u001b[1m6/6\u001b[0m \u001b[32m━━━━━━━━━━━━━━━━━━━━\u001b[0m\u001b[37m\u001b[0m \u001b[1m2s\u001b[0m 231ms/step\n",
            "                       precision    recall  f1-score   support\n",
            "\n",
            "mask worn incorrectly       0.00      0.00      0.00         0\n",
            "            with mask       0.88      0.99      0.93       151\n",
            "         without mask       0.00      0.00      0.00        20\n",
            "\n",
            "             accuracy                           0.88       171\n",
            "            macro avg       0.29      0.33      0.31       171\n",
            "         weighted avg       0.78      0.88      0.83       171\n",
            "\n"
          ]
        },
        {
          "output_type": "stream",
          "name": "stderr",
          "text": [
            "/usr/local/lib/python3.11/dist-packages/sklearn/metrics/_classification.py:1565: UndefinedMetricWarning: Precision is ill-defined and being set to 0.0 in labels with no predicted samples. Use `zero_division` parameter to control this behavior.\n",
            "  _warn_prf(average, modifier, f\"{metric.capitalize()} is\", len(result))\n",
            "/usr/local/lib/python3.11/dist-packages/sklearn/metrics/_classification.py:1565: UndefinedMetricWarning: Recall is ill-defined and being set to 0.0 in labels with no true samples. Use `zero_division` parameter to control this behavior.\n",
            "  _warn_prf(average, modifier, f\"{metric.capitalize()} is\", len(result))\n",
            "/usr/local/lib/python3.11/dist-packages/sklearn/metrics/_classification.py:1565: UndefinedMetricWarning: Precision is ill-defined and being set to 0.0 in labels with no predicted samples. Use `zero_division` parameter to control this behavior.\n",
            "  _warn_prf(average, modifier, f\"{metric.capitalize()} is\", len(result))\n",
            "/usr/local/lib/python3.11/dist-packages/sklearn/metrics/_classification.py:1565: UndefinedMetricWarning: Recall is ill-defined and being set to 0.0 in labels with no true samples. Use `zero_division` parameter to control this behavior.\n",
            "  _warn_prf(average, modifier, f\"{metric.capitalize()} is\", len(result))\n",
            "/usr/local/lib/python3.11/dist-packages/sklearn/metrics/_classification.py:1565: UndefinedMetricWarning: Precision is ill-defined and being set to 0.0 in labels with no predicted samples. Use `zero_division` parameter to control this behavior.\n",
            "  _warn_prf(average, modifier, f\"{metric.capitalize()} is\", len(result))\n",
            "/usr/local/lib/python3.11/dist-packages/sklearn/metrics/_classification.py:1565: UndefinedMetricWarning: Recall is ill-defined and being set to 0.0 in labels with no true samples. Use `zero_division` parameter to control this behavior.\n",
            "  _warn_prf(average, modifier, f\"{metric.capitalize()} is\", len(result))\n"
          ]
        }
      ]
    },
    {
      "cell_type": "code",
      "source": [
        "# โหลดตัว model\n",
        "model = load_model('/content/face_mask_detection_model.keras')"
      ],
      "metadata": {
        "id": "H5liZAbtQ8SM"
      },
      "execution_count": null,
      "outputs": []
    }
  ],
  "metadata": {
    "kernelspec": {
      "display_name": "env",
      "language": "python",
      "name": "python3"
    },
    "language_info": {
      "codemirror_mode": {
        "name": "ipython",
        "version": 3
      },
      "file_extension": ".py",
      "mimetype": "text/x-python",
      "name": "python",
      "nbconvert_exporter": "python",
      "pygments_lexer": "ipython3",
      "version": "3.12.3"
    },
    "colab": {
      "provenance": []
    },
    "widgets": {
      "application/vnd.jupyter.widget-state+json": {
        "1c0814ea04214e0cbd006206fffd6756": {
          "model_module": "@jupyter-widgets/controls",
          "model_name": "VBoxModel",
          "model_module_version": "1.5.0",
          "state": {
            "_dom_classes": [],
            "_model_module": "@jupyter-widgets/controls",
            "_model_module_version": "1.5.0",
            "_model_name": "VBoxModel",
            "_view_count": null,
            "_view_module": "@jupyter-widgets/controls",
            "_view_module_version": "1.5.0",
            "_view_name": "VBoxView",
            "box_style": "",
            "children": [
              "IPY_MODEL_9a2526b2b3514e83a8702be5a6066abb"
            ],
            "layout": "IPY_MODEL_7324dbc9b5414798b825ea0c6e269eaf"
          }
        },
        "1c1e72c663fa45e1a6cc92e0cc4f44b9": {
          "model_module": "@jupyter-widgets/controls",
          "model_name": "HTMLModel",
          "model_module_version": "1.5.0",
          "state": {
            "_dom_classes": [],
            "_model_module": "@jupyter-widgets/controls",
            "_model_module_version": "1.5.0",
            "_model_name": "HTMLModel",
            "_view_count": null,
            "_view_module": "@jupyter-widgets/controls",
            "_view_module_version": "1.5.0",
            "_view_name": "HTMLView",
            "description": "",
            "description_tooltip": null,
            "layout": "IPY_MODEL_a8f919df8bc04b7599c90a88c2af41c0",
            "placeholder": "​",
            "style": "IPY_MODEL_74754c923c434dc484ebc098fc1f7b6d",
            "value": "<center> <img\nsrc=https://www.kaggle.com/static/images/site-logo.png\nalt='Kaggle'> <br> Create an API token from <a\nhref=\"https://www.kaggle.com/settings/account\" target=\"_blank\">your Kaggle\nsettings page</a> and paste it below along with your Kaggle username. <br> </center>"
          }
        },
        "f9330123e8a04703819e1bfa978d92b4": {
          "model_module": "@jupyter-widgets/controls",
          "model_name": "TextModel",
          "model_module_version": "1.5.0",
          "state": {
            "_dom_classes": [],
            "_model_module": "@jupyter-widgets/controls",
            "_model_module_version": "1.5.0",
            "_model_name": "TextModel",
            "_view_count": null,
            "_view_module": "@jupyter-widgets/controls",
            "_view_module_version": "1.5.0",
            "_view_name": "TextView",
            "continuous_update": true,
            "description": "Username:",
            "description_tooltip": null,
            "disabled": false,
            "layout": "IPY_MODEL_fe4a1c48b47d46c88a04511daa3ef60e",
            "placeholder": "​",
            "style": "IPY_MODEL_955a9a0a59b64793adf05b19ee969145",
            "value": "warinsaipanya"
          }
        },
        "43ce76b4e9664254af92c88c46a1801d": {
          "model_module": "@jupyter-widgets/controls",
          "model_name": "PasswordModel",
          "model_module_version": "1.5.0",
          "state": {
            "_dom_classes": [],
            "_model_module": "@jupyter-widgets/controls",
            "_model_module_version": "1.5.0",
            "_model_name": "PasswordModel",
            "_view_count": null,
            "_view_module": "@jupyter-widgets/controls",
            "_view_module_version": "1.5.0",
            "_view_name": "PasswordView",
            "continuous_update": true,
            "description": "Token:",
            "description_tooltip": null,
            "disabled": false,
            "layout": "IPY_MODEL_742b6bbfae404f08866224723011f601",
            "placeholder": "​",
            "style": "IPY_MODEL_deb62aae6ff54cdbb3e96654bbfee38c",
            "value": ""
          }
        },
        "1243f1e1bd5c460c9dd078c85f1d3ac7": {
          "model_module": "@jupyter-widgets/controls",
          "model_name": "ButtonModel",
          "model_module_version": "1.5.0",
          "state": {
            "_dom_classes": [],
            "_model_module": "@jupyter-widgets/controls",
            "_model_module_version": "1.5.0",
            "_model_name": "ButtonModel",
            "_view_count": null,
            "_view_module": "@jupyter-widgets/controls",
            "_view_module_version": "1.5.0",
            "_view_name": "ButtonView",
            "button_style": "",
            "description": "Login",
            "disabled": false,
            "icon": "",
            "layout": "IPY_MODEL_5f55b512bff84858aa19a69491941bad",
            "style": "IPY_MODEL_50fb9a0d7bd149539289b33e7466779a",
            "tooltip": ""
          }
        },
        "fcf2927cd2674a788b134ced453d03b9": {
          "model_module": "@jupyter-widgets/controls",
          "model_name": "HTMLModel",
          "model_module_version": "1.5.0",
          "state": {
            "_dom_classes": [],
            "_model_module": "@jupyter-widgets/controls",
            "_model_module_version": "1.5.0",
            "_model_name": "HTMLModel",
            "_view_count": null,
            "_view_module": "@jupyter-widgets/controls",
            "_view_module_version": "1.5.0",
            "_view_name": "HTMLView",
            "description": "",
            "description_tooltip": null,
            "layout": "IPY_MODEL_c6240b0818734b40bc5110b531350d51",
            "placeholder": "​",
            "style": "IPY_MODEL_f19d7bfa94d5491b8f30c97eb2a55173",
            "value": "\n<b>Thank You</b></center>"
          }
        },
        "7324dbc9b5414798b825ea0c6e269eaf": {
          "model_module": "@jupyter-widgets/base",
          "model_name": "LayoutModel",
          "model_module_version": "1.2.0",
          "state": {
            "_model_module": "@jupyter-widgets/base",
            "_model_module_version": "1.2.0",
            "_model_name": "LayoutModel",
            "_view_count": null,
            "_view_module": "@jupyter-widgets/base",
            "_view_module_version": "1.2.0",
            "_view_name": "LayoutView",
            "align_content": null,
            "align_items": "center",
            "align_self": null,
            "border": null,
            "bottom": null,
            "display": "flex",
            "flex": null,
            "flex_flow": "column",
            "grid_area": null,
            "grid_auto_columns": null,
            "grid_auto_flow": null,
            "grid_auto_rows": null,
            "grid_column": null,
            "grid_gap": null,
            "grid_row": null,
            "grid_template_areas": null,
            "grid_template_columns": null,
            "grid_template_rows": null,
            "height": null,
            "justify_content": null,
            "justify_items": null,
            "left": null,
            "margin": null,
            "max_height": null,
            "max_width": null,
            "min_height": null,
            "min_width": null,
            "object_fit": null,
            "object_position": null,
            "order": null,
            "overflow": null,
            "overflow_x": null,
            "overflow_y": null,
            "padding": null,
            "right": null,
            "top": null,
            "visibility": null,
            "width": "50%"
          }
        },
        "a8f919df8bc04b7599c90a88c2af41c0": {
          "model_module": "@jupyter-widgets/base",
          "model_name": "LayoutModel",
          "model_module_version": "1.2.0",
          "state": {
            "_model_module": "@jupyter-widgets/base",
            "_model_module_version": "1.2.0",
            "_model_name": "LayoutModel",
            "_view_count": null,
            "_view_module": "@jupyter-widgets/base",
            "_view_module_version": "1.2.0",
            "_view_name": "LayoutView",
            "align_content": null,
            "align_items": null,
            "align_self": null,
            "border": null,
            "bottom": null,
            "display": null,
            "flex": null,
            "flex_flow": null,
            "grid_area": null,
            "grid_auto_columns": null,
            "grid_auto_flow": null,
            "grid_auto_rows": null,
            "grid_column": null,
            "grid_gap": null,
            "grid_row": null,
            "grid_template_areas": null,
            "grid_template_columns": null,
            "grid_template_rows": null,
            "height": null,
            "justify_content": null,
            "justify_items": null,
            "left": null,
            "margin": null,
            "max_height": null,
            "max_width": null,
            "min_height": null,
            "min_width": null,
            "object_fit": null,
            "object_position": null,
            "order": null,
            "overflow": null,
            "overflow_x": null,
            "overflow_y": null,
            "padding": null,
            "right": null,
            "top": null,
            "visibility": null,
            "width": null
          }
        },
        "74754c923c434dc484ebc098fc1f7b6d": {
          "model_module": "@jupyter-widgets/controls",
          "model_name": "DescriptionStyleModel",
          "model_module_version": "1.5.0",
          "state": {
            "_model_module": "@jupyter-widgets/controls",
            "_model_module_version": "1.5.0",
            "_model_name": "DescriptionStyleModel",
            "_view_count": null,
            "_view_module": "@jupyter-widgets/base",
            "_view_module_version": "1.2.0",
            "_view_name": "StyleView",
            "description_width": ""
          }
        },
        "fe4a1c48b47d46c88a04511daa3ef60e": {
          "model_module": "@jupyter-widgets/base",
          "model_name": "LayoutModel",
          "model_module_version": "1.2.0",
          "state": {
            "_model_module": "@jupyter-widgets/base",
            "_model_module_version": "1.2.0",
            "_model_name": "LayoutModel",
            "_view_count": null,
            "_view_module": "@jupyter-widgets/base",
            "_view_module_version": "1.2.0",
            "_view_name": "LayoutView",
            "align_content": null,
            "align_items": null,
            "align_self": null,
            "border": null,
            "bottom": null,
            "display": null,
            "flex": null,
            "flex_flow": null,
            "grid_area": null,
            "grid_auto_columns": null,
            "grid_auto_flow": null,
            "grid_auto_rows": null,
            "grid_column": null,
            "grid_gap": null,
            "grid_row": null,
            "grid_template_areas": null,
            "grid_template_columns": null,
            "grid_template_rows": null,
            "height": null,
            "justify_content": null,
            "justify_items": null,
            "left": null,
            "margin": null,
            "max_height": null,
            "max_width": null,
            "min_height": null,
            "min_width": null,
            "object_fit": null,
            "object_position": null,
            "order": null,
            "overflow": null,
            "overflow_x": null,
            "overflow_y": null,
            "padding": null,
            "right": null,
            "top": null,
            "visibility": null,
            "width": null
          }
        },
        "955a9a0a59b64793adf05b19ee969145": {
          "model_module": "@jupyter-widgets/controls",
          "model_name": "DescriptionStyleModel",
          "model_module_version": "1.5.0",
          "state": {
            "_model_module": "@jupyter-widgets/controls",
            "_model_module_version": "1.5.0",
            "_model_name": "DescriptionStyleModel",
            "_view_count": null,
            "_view_module": "@jupyter-widgets/base",
            "_view_module_version": "1.2.0",
            "_view_name": "StyleView",
            "description_width": ""
          }
        },
        "742b6bbfae404f08866224723011f601": {
          "model_module": "@jupyter-widgets/base",
          "model_name": "LayoutModel",
          "model_module_version": "1.2.0",
          "state": {
            "_model_module": "@jupyter-widgets/base",
            "_model_module_version": "1.2.0",
            "_model_name": "LayoutModel",
            "_view_count": null,
            "_view_module": "@jupyter-widgets/base",
            "_view_module_version": "1.2.0",
            "_view_name": "LayoutView",
            "align_content": null,
            "align_items": null,
            "align_self": null,
            "border": null,
            "bottom": null,
            "display": null,
            "flex": null,
            "flex_flow": null,
            "grid_area": null,
            "grid_auto_columns": null,
            "grid_auto_flow": null,
            "grid_auto_rows": null,
            "grid_column": null,
            "grid_gap": null,
            "grid_row": null,
            "grid_template_areas": null,
            "grid_template_columns": null,
            "grid_template_rows": null,
            "height": null,
            "justify_content": null,
            "justify_items": null,
            "left": null,
            "margin": null,
            "max_height": null,
            "max_width": null,
            "min_height": null,
            "min_width": null,
            "object_fit": null,
            "object_position": null,
            "order": null,
            "overflow": null,
            "overflow_x": null,
            "overflow_y": null,
            "padding": null,
            "right": null,
            "top": null,
            "visibility": null,
            "width": null
          }
        },
        "deb62aae6ff54cdbb3e96654bbfee38c": {
          "model_module": "@jupyter-widgets/controls",
          "model_name": "DescriptionStyleModel",
          "model_module_version": "1.5.0",
          "state": {
            "_model_module": "@jupyter-widgets/controls",
            "_model_module_version": "1.5.0",
            "_model_name": "DescriptionStyleModel",
            "_view_count": null,
            "_view_module": "@jupyter-widgets/base",
            "_view_module_version": "1.2.0",
            "_view_name": "StyleView",
            "description_width": ""
          }
        },
        "5f55b512bff84858aa19a69491941bad": {
          "model_module": "@jupyter-widgets/base",
          "model_name": "LayoutModel",
          "model_module_version": "1.2.0",
          "state": {
            "_model_module": "@jupyter-widgets/base",
            "_model_module_version": "1.2.0",
            "_model_name": "LayoutModel",
            "_view_count": null,
            "_view_module": "@jupyter-widgets/base",
            "_view_module_version": "1.2.0",
            "_view_name": "LayoutView",
            "align_content": null,
            "align_items": null,
            "align_self": null,
            "border": null,
            "bottom": null,
            "display": null,
            "flex": null,
            "flex_flow": null,
            "grid_area": null,
            "grid_auto_columns": null,
            "grid_auto_flow": null,
            "grid_auto_rows": null,
            "grid_column": null,
            "grid_gap": null,
            "grid_row": null,
            "grid_template_areas": null,
            "grid_template_columns": null,
            "grid_template_rows": null,
            "height": null,
            "justify_content": null,
            "justify_items": null,
            "left": null,
            "margin": null,
            "max_height": null,
            "max_width": null,
            "min_height": null,
            "min_width": null,
            "object_fit": null,
            "object_position": null,
            "order": null,
            "overflow": null,
            "overflow_x": null,
            "overflow_y": null,
            "padding": null,
            "right": null,
            "top": null,
            "visibility": null,
            "width": null
          }
        },
        "50fb9a0d7bd149539289b33e7466779a": {
          "model_module": "@jupyter-widgets/controls",
          "model_name": "ButtonStyleModel",
          "model_module_version": "1.5.0",
          "state": {
            "_model_module": "@jupyter-widgets/controls",
            "_model_module_version": "1.5.0",
            "_model_name": "ButtonStyleModel",
            "_view_count": null,
            "_view_module": "@jupyter-widgets/base",
            "_view_module_version": "1.2.0",
            "_view_name": "StyleView",
            "button_color": null,
            "font_weight": ""
          }
        },
        "c6240b0818734b40bc5110b531350d51": {
          "model_module": "@jupyter-widgets/base",
          "model_name": "LayoutModel",
          "model_module_version": "1.2.0",
          "state": {
            "_model_module": "@jupyter-widgets/base",
            "_model_module_version": "1.2.0",
            "_model_name": "LayoutModel",
            "_view_count": null,
            "_view_module": "@jupyter-widgets/base",
            "_view_module_version": "1.2.0",
            "_view_name": "LayoutView",
            "align_content": null,
            "align_items": null,
            "align_self": null,
            "border": null,
            "bottom": null,
            "display": null,
            "flex": null,
            "flex_flow": null,
            "grid_area": null,
            "grid_auto_columns": null,
            "grid_auto_flow": null,
            "grid_auto_rows": null,
            "grid_column": null,
            "grid_gap": null,
            "grid_row": null,
            "grid_template_areas": null,
            "grid_template_columns": null,
            "grid_template_rows": null,
            "height": null,
            "justify_content": null,
            "justify_items": null,
            "left": null,
            "margin": null,
            "max_height": null,
            "max_width": null,
            "min_height": null,
            "min_width": null,
            "object_fit": null,
            "object_position": null,
            "order": null,
            "overflow": null,
            "overflow_x": null,
            "overflow_y": null,
            "padding": null,
            "right": null,
            "top": null,
            "visibility": null,
            "width": null
          }
        },
        "f19d7bfa94d5491b8f30c97eb2a55173": {
          "model_module": "@jupyter-widgets/controls",
          "model_name": "DescriptionStyleModel",
          "model_module_version": "1.5.0",
          "state": {
            "_model_module": "@jupyter-widgets/controls",
            "_model_module_version": "1.5.0",
            "_model_name": "DescriptionStyleModel",
            "_view_count": null,
            "_view_module": "@jupyter-widgets/base",
            "_view_module_version": "1.2.0",
            "_view_name": "StyleView",
            "description_width": ""
          }
        },
        "7d00f0631dc64ae7a377b80bbe80cb03": {
          "model_module": "@jupyter-widgets/controls",
          "model_name": "LabelModel",
          "model_module_version": "1.5.0",
          "state": {
            "_dom_classes": [],
            "_model_module": "@jupyter-widgets/controls",
            "_model_module_version": "1.5.0",
            "_model_name": "LabelModel",
            "_view_count": null,
            "_view_module": "@jupyter-widgets/controls",
            "_view_module_version": "1.5.0",
            "_view_name": "LabelView",
            "description": "",
            "description_tooltip": null,
            "layout": "IPY_MODEL_8c8a062e1f4b4295a5bbe396fd075240",
            "placeholder": "​",
            "style": "IPY_MODEL_85edc1bfd7604e988fb28261d6a07be7",
            "value": "Connecting..."
          }
        },
        "8c8a062e1f4b4295a5bbe396fd075240": {
          "model_module": "@jupyter-widgets/base",
          "model_name": "LayoutModel",
          "model_module_version": "1.2.0",
          "state": {
            "_model_module": "@jupyter-widgets/base",
            "_model_module_version": "1.2.0",
            "_model_name": "LayoutModel",
            "_view_count": null,
            "_view_module": "@jupyter-widgets/base",
            "_view_module_version": "1.2.0",
            "_view_name": "LayoutView",
            "align_content": null,
            "align_items": null,
            "align_self": null,
            "border": null,
            "bottom": null,
            "display": null,
            "flex": null,
            "flex_flow": null,
            "grid_area": null,
            "grid_auto_columns": null,
            "grid_auto_flow": null,
            "grid_auto_rows": null,
            "grid_column": null,
            "grid_gap": null,
            "grid_row": null,
            "grid_template_areas": null,
            "grid_template_columns": null,
            "grid_template_rows": null,
            "height": null,
            "justify_content": null,
            "justify_items": null,
            "left": null,
            "margin": null,
            "max_height": null,
            "max_width": null,
            "min_height": null,
            "min_width": null,
            "object_fit": null,
            "object_position": null,
            "order": null,
            "overflow": null,
            "overflow_x": null,
            "overflow_y": null,
            "padding": null,
            "right": null,
            "top": null,
            "visibility": null,
            "width": null
          }
        },
        "85edc1bfd7604e988fb28261d6a07be7": {
          "model_module": "@jupyter-widgets/controls",
          "model_name": "DescriptionStyleModel",
          "model_module_version": "1.5.0",
          "state": {
            "_model_module": "@jupyter-widgets/controls",
            "_model_module_version": "1.5.0",
            "_model_name": "DescriptionStyleModel",
            "_view_count": null,
            "_view_module": "@jupyter-widgets/base",
            "_view_module_version": "1.2.0",
            "_view_name": "StyleView",
            "description_width": ""
          }
        },
        "9a2526b2b3514e83a8702be5a6066abb": {
          "model_module": "@jupyter-widgets/controls",
          "model_name": "LabelModel",
          "model_module_version": "1.5.0",
          "state": {
            "_dom_classes": [],
            "_model_module": "@jupyter-widgets/controls",
            "_model_module_version": "1.5.0",
            "_model_name": "LabelModel",
            "_view_count": null,
            "_view_module": "@jupyter-widgets/controls",
            "_view_module_version": "1.5.0",
            "_view_name": "LabelView",
            "description": "",
            "description_tooltip": null,
            "layout": "IPY_MODEL_17a01468185f42a7bf610dee34bd864e",
            "placeholder": "​",
            "style": "IPY_MODEL_0af83452a17649a9929c52b8c2692ed9",
            "value": "Kaggle credentials successfully validated."
          }
        },
        "17a01468185f42a7bf610dee34bd864e": {
          "model_module": "@jupyter-widgets/base",
          "model_name": "LayoutModel",
          "model_module_version": "1.2.0",
          "state": {
            "_model_module": "@jupyter-widgets/base",
            "_model_module_version": "1.2.0",
            "_model_name": "LayoutModel",
            "_view_count": null,
            "_view_module": "@jupyter-widgets/base",
            "_view_module_version": "1.2.0",
            "_view_name": "LayoutView",
            "align_content": null,
            "align_items": null,
            "align_self": null,
            "border": null,
            "bottom": null,
            "display": null,
            "flex": null,
            "flex_flow": null,
            "grid_area": null,
            "grid_auto_columns": null,
            "grid_auto_flow": null,
            "grid_auto_rows": null,
            "grid_column": null,
            "grid_gap": null,
            "grid_row": null,
            "grid_template_areas": null,
            "grid_template_columns": null,
            "grid_template_rows": null,
            "height": null,
            "justify_content": null,
            "justify_items": null,
            "left": null,
            "margin": null,
            "max_height": null,
            "max_width": null,
            "min_height": null,
            "min_width": null,
            "object_fit": null,
            "object_position": null,
            "order": null,
            "overflow": null,
            "overflow_x": null,
            "overflow_y": null,
            "padding": null,
            "right": null,
            "top": null,
            "visibility": null,
            "width": null
          }
        },
        "0af83452a17649a9929c52b8c2692ed9": {
          "model_module": "@jupyter-widgets/controls",
          "model_name": "DescriptionStyleModel",
          "model_module_version": "1.5.0",
          "state": {
            "_model_module": "@jupyter-widgets/controls",
            "_model_module_version": "1.5.0",
            "_model_name": "DescriptionStyleModel",
            "_view_count": null,
            "_view_module": "@jupyter-widgets/base",
            "_view_module_version": "1.2.0",
            "_view_name": "StyleView",
            "description_width": ""
          }
        }
      }
    }
  },
  "nbformat": 4,
  "nbformat_minor": 0
}